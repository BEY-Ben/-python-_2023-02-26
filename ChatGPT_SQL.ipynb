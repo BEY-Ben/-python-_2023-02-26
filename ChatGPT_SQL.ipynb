{
 "cells": [
  {
   "cell_type": "code",
   "execution_count": null,
   "metadata": {},
   "outputs": [],
   "source": [
    "### 可以使用Python中的資料庫來儲存查詢到的資訊，\n",
    "# 例如SQLite、MySQL或PostgreSQL等。您可以使用Python內建的sqlite3模組，\n",
    "# 或是第三方的ORM套件（例如SQLAlchemy）來操作資料庫。\n",
    "\n",
    "# 以下是一個使用sqlite3模組儲存查詢到的資訊的範例程式碼：\n",
    "\n",
    "import sqlite3\n",
    "\n",
    "# 連接到資料庫，若不存在則會自動建立一個新的\n",
    "conn = sqlite3.connect('stock_info.db')\n",
    "\n",
    "# 創建一個名為 stock 的資料表，用來儲存股票資訊\n",
    "conn.execute('''CREATE TABLE IF NOT EXISTS stock\n",
    "             (ID INTEGER PRIMARY KEY AUTOINCREMENT,\n",
    "             CODE TEXT NOT NULL,\n",
    "             NAME TEXT NOT NULL,\n",
    "             DATE TEXT NOT NULL,\n",
    "             PRICE REAL NOT NULL,\n",
    "             VOLUME INTEGER NOT NULL,\n",
    "             TRANSACTION INTEGER NOT NULL);''')\n",
    "\n",
    "# 將查詢到的股票資訊存入資料庫\n",
    "def save_to_database(code, name, date, price, volume, transaction):\n",
    "    conn.execute(\"INSERT INTO stock (CODE, NAME, DATE, PRICE, VOLUME, TRANSACTION) VALUES (?, ?, ?, ?, ?, ?)\",\n",
    "                 (code, name, date, price, volume, transaction))\n",
    "    conn.commit()\n",
    "\n",
    "# 從資料庫中讀取股票資訊\n",
    "def read_from_database():\n",
    "    cursor = conn.execute(\"SELECT * from stock\")\n",
    "    for row in cursor:\n",
    "        print(\"ID = \", row[0])\n",
    "        print(\"CODE = \", row[1])\n",
    "        print(\"NAME = \", row[2])\n",
    "        print(\"DATE = \", row[3])\n",
    "        print(\"PRICE = \", row[4])\n",
    "        print(\"VOLUME = \", row[5])\n",
    "        print(\"TRANSACTION = \", row[6])\n",
    "\n",
    "# 關閉資料庫連線\n",
    "conn.close()\n",
    "\n",
    "\n",
    "\n",
    "####在上面的程式碼中，我們創建了一個名為 stock 的資料表，用來儲存股票資訊。\n",
    "# 然後我們定義了一個 save_to_database 函數來將查詢到的資訊存入資料庫，\n",
    "# 以及一個 read_from_database 函數來從資料庫中讀取股票資訊。\n",
    "# 最後，我們使用 conn.close() 來關閉資料庫連線。"
   ]
  }
 ],
 "metadata": {
  "language_info": {
   "name": "python"
  },
  "orig_nbformat": 4
 },
 "nbformat": 4,
 "nbformat_minor": 2
}
