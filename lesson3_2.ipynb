{
 "cells": [
  {
   "cell_type": "code",
   "execution_count": 1,
   "metadata": {},
   "outputs": [
    {
     "name": "stdout",
     "output_type": "stream",
     "text": [
      "梯形的面積:60.00平方公分\n"
     ]
    }
   ],
   "source": [
    "### Homework(ladder.py)\n",
    "### 讓使用者輸入梯形的上底、下底及高，程式會計算梯形的面積(上底加下底乘以高除以2)\n",
    "\n",
    "# 請輸入梯形的上底(公分):\n",
    "# 請輸入梯形的下底(公分):\n",
    "# 請輸入梯形的高(公分):\n",
    "# 梯形的面積:\n",
    "\n",
    "top = eval(input('請輸入梯形的上底(公分):'))\n",
    "bottom = eval(input('請輸入梯形的下底(公分):'))\n",
    "height = eval(input('請輸入梯形的高(公分):'))\n",
    "\n",
    "area = ( top + bottom) * height / 2 #梯型面積\n",
    "print(f\"梯形的面積:{area:.2f}平方公分\")"
   ]
  },
  {
   "cell_type": "code",
   "execution_count": 4,
   "metadata": {},
   "outputs": [
    {
     "name": "stdout",
     "output_type": "stream",
     "text": [
      "圓柱體的體積:3141.60立方公分\n"
     ]
    }
   ],
   "source": [
    "### Homework(circle_s.py)\n",
    "# 使用者輸入圓柱體的半徑及高，程式會計算圓柱體的體積\n",
    "# 圓柱體的體積公式為「圓周率乘以半徑平方乘以高」\n",
    "\n",
    "PI = 3.1415962\n",
    "radius = eval(input('請輸入圓柱體的半徑(公分):'))\n",
    "height = eval(input('請輸入圓柱體的高(公分):'))\n",
    "\n",
    "volume = radius**2 * PI * height #圓柱體體積\n",
    "print(f\"圓柱體的體積:{volume:.2f}立方公分\")"
   ]
  },
  {
   "cell_type": "code",
   "execution_count": 8,
   "metadata": {},
   "outputs": [
    {
     "name": "stdout",
     "output_type": "stream",
     "text": [
      "斜邊:5.00公分\n"
     ]
    }
   ],
   "source": [
    "### 三角形畢氏定理求斜邊\n",
    "### 但是python內建沒有開根號，需要掛載其他模組math\n",
    "\n",
    "import math\n",
    "\n",
    "bottom = eval(input('請輸入三角形的下底(公分):'))\n",
    "height = eval(input('請輸入三角形的高(公分):'))\n",
    "\n",
    "incline = math.sqrt(bottom**2 + height**2)  #斜邊\n",
    "print(f\"斜邊:{incline:.2f}公分\")\n"
   ]
  }
 ],
 "metadata": {
  "kernelspec": {
   "display_name": "Python 3",
   "language": "python",
   "name": "python3"
  },
  "language_info": {
   "codemirror_mode": {
    "name": "ipython",
    "version": 3
   },
   "file_extension": ".py",
   "mimetype": "text/x-python",
   "name": "python",
   "nbconvert_exporter": "python",
   "pygments_lexer": "ipython3",
   "version": "3.8.10"
  },
  "orig_nbformat": 4,
  "vscode": {
   "interpreter": {
    "hash": "04e29b589f5eb40cab934003b6e1c45a9fddb347990af479a3e481f119517905"
   }
  }
 },
 "nbformat": 4,
 "nbformat_minor": 2
}
