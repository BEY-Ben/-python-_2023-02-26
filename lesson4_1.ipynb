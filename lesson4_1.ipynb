{
 "cells": [
  {
   "cell_type": "code",
   "execution_count": 44,
   "metadata": {},
   "outputs": [
    {
     "name": "stdout",
     "output_type": "stream",
     "text": [
      "對邊是2,斜邊是4,角度是:30\n"
     ]
    }
   ],
   "source": [
    "### py 內建的function : buildin function\n",
    "### buildin library\n",
    "\n",
    "# 求三角函數\n",
    "\n",
    "import math\n",
    "\n",
    "a = eval(input(\"請輸入直角三角形對邊:\"))\n",
    "b = eval(input(\"請輸入直角三角形斜邊:\"))\n",
    "\n",
    "if a > b:\n",
    "    print(f\"對邊是{a},斜邊是{b},斜邊不可能小於對邊，請重新輸入\")\n",
    "\n",
    "else:\n",
    "    radian = math.asin(a/b)\n",
    "    degree = math.degrees(radian) \n",
    "    print(f\"對邊是{a},斜邊是{b},角度是:{round(degree)}\")"
   ]
  },
  {
   "cell_type": "code",
   "execution_count": 41,
   "metadata": {},
   "outputs": [
    {
     "name": "stdout",
     "output_type": "stream",
     "text": [
      "10\n"
     ]
    }
   ],
   "source": [
    "# 複合指定運算子\n",
    "# -=\n",
    "# *=\n",
    "# /=\n",
    "# //=\n",
    "# %=\n",
    "# **=\n",
    "\n",
    "n = 10\n",
    "n += 5\n",
    "print(n)"
   ]
  },
  {
   "cell_type": "code",
   "execution_count": 45,
   "metadata": {},
   "outputs": [
    {
     "name": "stdout",
     "output_type": "stream",
     "text": [
      "三個數的總合為:30\n"
     ]
    }
   ],
   "source": [
    "### Homework(complex_s.py)\n",
    "# 請以複合指定運算子設計程式，讓使用者輸入三個數字後，加總計算\n",
    "\n",
    "total = 0\n",
    "value = eval(input('請輸入第一個數'))\n",
    "total += value\n",
    "\n",
    "value = eval(input('請輸入第二個數'))\n",
    "total += value\n",
    "\n",
    "value = eval(input('請輸入第三個數'))\n",
    "total += value\n",
    "\n",
    "print(f\"三個數的總合為:{total}\")"
   ]
  },
  {
   "cell_type": "code",
   "execution_count": 47,
   "metadata": {},
   "outputs": [
    {
     "name": "stdout",
     "output_type": "stream",
     "text": [
      "111222333\n"
     ]
    }
   ],
   "source": [
    "### 使用複合運算子做字串的連結\n",
    "\n",
    "alphabet = '111'\n",
    "alphabet += '222'\n",
    "alphabet += '333'\n",
    "\n",
    "print(alphabet)"
   ]
  },
  {
   "cell_type": "code",
   "execution_count": 50,
   "metadata": {},
   "outputs": [
    {
     "name": "stdout",
     "output_type": "stream",
     "text": [
      "\n"
     ]
    }
   ],
   "source": [
    "# 字串相加，成為一段文字\n",
    "\n",
    "alphabet = str(input('請輸入第一段文字'))\n",
    "alphabet += str(input('請輸入第二段文字'))\n",
    "alphabet += str(input('請輸入第三段文字'))\n",
    "alphabet += str(input('請輸入第四段文字'))\n",
    "\n",
    "print(alphabet)"
   ]
  },
  {
   "cell_type": "code",
   "execution_count": 55,
   "metadata": {},
   "outputs": [
    {
     "name": "stdout",
     "output_type": "stream",
     "text": [
      "111111fsjkljlj99uyjlhhaoud09\n"
     ]
    }
   ],
   "source": [
    "# 單行文字\n",
    "# 用\"\\\"連結不同段的同一行文字\n",
    "alphabet1 = \"111111f\\\n",
    "sjkljl\\\n",
    "j99uyjlhha\\\n",
    "oud09\"\n",
    "\n",
    "print(alphabet1)"
   ]
  },
  {
   "cell_type": "code",
   "execution_count": 57,
   "metadata": {},
   "outputs": [
    {
     "name": "stdout",
     "output_type": "stream",
     "text": [
      "前言:建構一個類似Microsoft Word的程式需要相當多的時間和資源\n",
      "，需要先瞭解一些基本的程式設計概念，例如使用者介面設計、文件格式、文字編輯、格式化等等。\n",
      "以下是一些步驟可以參考： 設計使用者介面：這是使用者和程式之間互動的主要界面，使用者應該可以很容易地尋找和使用各種功能，\n",
      "例如創建新文件、打開現有文件、編輯文字、格式化文本等等。\n",
      "\n",
      "確定文件格式：Word文檔是一個複雜的二進制格式，您需要決定自己的文檔格式，例如使用XML或JSON。\n",
      "處理文本編輯：您需要考慮如何處理文本編輯，包括插入、刪除、選擇、拖放、複製和粘貼等。\n",
      "處理格式化：Word有豐富的文本格式化功能，例如字體、顏色、樣式、段落、對齊、縮進等等。\n",
      "您需要決定如何實現這些格式化功能。 建立自動儲存：使用者編輯文件時需要儲存文件。\n",
      "\n",
      "您可以為使用者提供保存文檔的按鈕，並在程序中設置自動儲存功能。 實現印表機支援：您可以添加印表機支援，使用者可以將文檔直接打印出來。 測試和優化：建構出Word類似的程式後，需要進行反覆測試，並不斷優化，確保程式可以穩定運行和提供良好的使用體驗。\n",
      "\n",
      "至於要用哪種程式語言來建構類似Word的程式，其實有很多選擇，例如C++、Java、Python、C等等。不同的程式語言有不同的優點和缺點，可以根據自己的需求選擇適合的語言。\n"
     ]
    }
   ],
   "source": [
    "#單行文字,print 時要有換行 輸入\"\\n\"換行\n",
    "games = '前言:建構一個類似Microsoft Word的程式需要相當多的時間和資源\\n，需要先瞭解一些基本的程式設計概念，例如使用者介面設計、文件格式、文字編輯、格式化等等。\\n以下是一些步驟可以參考： 設計使用者介面：這是使用者和程式之間互動的主要界面，使用者應該可以很容易地尋找和使用各種功能，\\n例如創建新文件、打開現有文件、編輯文字、格式化文本等等。\\n\\n確定文件格式：Word文檔是一個複雜的二進制格式，您需要決定自己的文檔格式，例如使用XML或JSON。\\n處理文本編輯：您需要考慮如何處理文本編輯，包括插入、刪除、選擇、拖放、複製和粘貼等。\\n處理格式化：Word有豐富的文本格式化功能，例如字體、顏色、樣式、段落、對齊、縮進等等。\\n您需要決定如何實現這些格式化功能。 建立自動儲存：使用者編輯文件時需要儲存文件。\\n\\n您可以為使用者提供保存文檔的按鈕，並在程序中設置自動儲存功能。 實現印表機支援：您可以添加印表機支援，使用者可以將文檔直接打印出來。 測試和優化：建構出Word類似的程式後，需要進行反覆測試，並不斷優化，確保程式可以穩定運行和提供良好的使用體驗。\\n\\n至於要用哪種程式語言來建構類似Word的程式，其實有很多選擇，例如C++、Java、Python、C等等。不同的程式語言有不同的優點和缺點，可以根據自己的需求選擇適合的語言。'\n",
    "\n",
    "print (games)"
   ]
  },
  {
   "cell_type": "code",
   "execution_count": 60,
   "metadata": {},
   "outputs": [
    {
     "name": "stdout",
     "output_type": "stream",
     "text": [
      "前言:建構一個類似Microsoft Word的程式需要相當多的時間和資源\n",
      "，需要先瞭解一些基本的程式設計概念，例如使用者介面設計、文件格式、文字編輯、格式化等等。\n",
      "以下是一些步驟可以參考： 設計使用者介面：這是使用者和程式之間互動的主要界面，使用者應該可以很容易地尋找和使用各種功能，\n",
      "例如創建新文件、打開現有文件、編輯文字、格式化文本等等。\n",
      "\n",
      "確定文件格式：Word文檔是一個複雜的二進制格式，您需要決定自己的文檔格式，例如使用XML或JSON。\n",
      "處理文本編輯：您需要考慮如何處理文本編輯，包括插入、刪除、選擇、拖放、複製和粘貼等。\n",
      "處理格式化：Word有豐富的文本格式化功能，例如字體、顏色、樣式、段落、對齊、縮進等等。\n",
      "您需要決定如何實現這些格式化功能。 建立自動儲存：使用者編輯文件時需要儲存文件。\n",
      "\n",
      "您可以為使用者提供保存文檔的按鈕，並在程序中設置自動儲存功能。 實現印表機支援：您可以添加印表機支援，使用者可以將文檔直接打印出來。 測試和優化：建構出Word類似的程式後，需要進行反覆測試，並不斷優化，確保程式可以穩定運行和提供良好的使用體驗。\n",
      "\n",
      "至於要用哪種程式語言來建構類似Word的程式，其實有很多選擇，例如C++、Java、Python、C等等。不同的程式語言有不同的優點和缺點，可以根據自己的需求選擇適合的語言。\n"
     ]
    }
   ],
   "source": [
    "# 多行文字 \n",
    "# 輸入''' XXX '''可以自動產生換行符號的純值文字\n",
    "game = '''前言:建構一個類似Microsoft Word的程式需要相當多的時間和資源\n",
    "，需要先瞭解一些基本的程式設計概念，例如使用者介面設計、文件格式、文字編輯、格式化等等。\n",
    "以下是一些步驟可以參考： 設計使用者介面：這是使用者和程式之間互動的主要界面，使用者應該可以很容易地尋找和使用各種功能，\n",
    "例如創建新文件、打開現有文件、編輯文字、格式化文本等等。\n",
    "\n",
    "確定文件格式：Word文檔是一個複雜的二進制格式，您需要決定自己的文檔格式，例如使用XML或JSON。\n",
    "處理文本編輯：您需要考慮如何處理文本編輯，包括插入、刪除、選擇、拖放、複製和粘貼等。\n",
    "處理格式化：Word有豐富的文本格式化功能，例如字體、顏色、樣式、段落、對齊、縮進等等。\n",
    "您需要決定如何實現這些格式化功能。 建立自動儲存：使用者編輯文件時需要儲存文件。\n",
    "\n",
    "您可以為使用者提供保存文檔的按鈕，並在程序中設置自動儲存功能。 實現印表機支援：您可以添加印表機支援，使用者可以將文檔直接打印出來。 測試和優化：建構出Word類似的程式後，需要進行反覆測試，並不斷優化，確保程式可以穩定運行和提供良好的使用體驗。\n",
    "\n",
    "至於要用哪種程式語言來建構類似Word的程式，其實有很多選擇，例如C++、Java、Python、C等等。不同的程式語言有不同的優點和缺點，可以根據自己的需求選擇適合的語言。'''\n",
    "\n",
    "print (game)"
   ]
  }
 ],
 "metadata": {
  "kernelspec": {
   "display_name": "Python 3",
   "language": "python",
   "name": "python3"
  },
  "language_info": {
   "codemirror_mode": {
    "name": "ipython",
    "version": 3
   },
   "file_extension": ".py",
   "mimetype": "text/x-python",
   "name": "python",
   "nbconvert_exporter": "python",
   "pygments_lexer": "ipython3",
   "version": "3.8.10"
  },
  "orig_nbformat": 4,
  "vscode": {
   "interpreter": {
    "hash": "04e29b589f5eb40cab934003b6e1c45a9fddb347990af479a3e481f119517905"
   }
  }
 },
 "nbformat": 4,
 "nbformat_minor": 2
}
