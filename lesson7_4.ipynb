{
 "cells": [
  {
   "cell_type": "code",
   "execution_count": 1,
   "metadata": {},
   "outputs": [
    {
     "data": {
      "text/plain": [
       "({}, {})"
      ]
     },
     "execution_count": 1,
     "metadata": {},
     "output_type": "execute_result"
    }
   ],
   "source": [
    "#dict dictionary建立的方式為{}大括號\n",
    "# {key:value,key:value}\n",
    "# dict((key,value),(key,value))\n",
    "\n",
    "# 建立空的dict\n",
    "dict1 = {}\n",
    "dict2 = dict()\n",
    "\n",
    "dict1, dict2"
   ]
  },
  {
   "cell_type": "code",
   "execution_count": 4,
   "metadata": {},
   "outputs": [
    {
     "data": {
      "text/plain": [
       "({'one': 1, 'two': 2, 'three': 3}, {'one': 1, 'two': 2, 'three': 3})"
      ]
     },
     "execution_count": 4,
     "metadata": {},
     "output_type": "execute_result"
    }
   ],
   "source": [
    "dict3 = {'one':1,'two':2,'three':3}\n",
    "\n",
    "dict4 = dict ([('one',1),('two',2),('three',3)]) #要包含list的[]\n",
    "\n",
    "dict3, dict4\n"
   ]
  },
  {
   "cell_type": "code",
   "execution_count": 5,
   "metadata": {},
   "outputs": [
    {
     "data": {
      "text/plain": [
       "(1, 2, 3)"
      ]
     },
     "execution_count": 5,
     "metadata": {},
     "output_type": "execute_result"
    }
   ],
   "source": [
    "\n",
    "dict3['one'], dict3['two'], dict3['three'] #dict用key取出值"
   ]
  },
  {
   "cell_type": "code",
   "execution_count": 7,
   "metadata": {},
   "outputs": [
    {
     "name": "stdout",
     "output_type": "stream",
     "text": [
      "{'chinese': 80, 'english': 89, 'math': 90, 'history': 90, 'geograghy': 65}\n"
     ]
    }
   ],
   "source": [
    "#設 初始科目和分數為下\n",
    "score = {'chinese':78,'english':89,'math':90}\n",
    "\n",
    "# dict內沒有的，就會增加\n",
    "score['history'] = 90 \n",
    "score['geograghy'] = 65\n",
    "\n",
    "# dict內有的內有的，就會被改變\n",
    "score['chinese'] = 80\n",
    "print(score)"
   ]
  },
  {
   "cell_type": "code",
   "execution_count": 9,
   "metadata": {},
   "outputs": [
    {
     "name": "stdout",
     "output_type": "stream",
     "text": [
      "{'chinese': 63, 'english': 76, 'math': 95, 'history': 85, 'geography': 81}\n"
     ]
    }
   ],
   "source": [
    "import random\n",
    "def get_score() -> dict:\n",
    "    return {'chinese':random.randint(50,100),\n",
    "            'english':random.randint(50,100),\n",
    "            'math':random.randint(50,100),\n",
    "            'history':random.randint(50,100),\n",
    "            'geography':random.randint(50,100),\n",
    "            }\n",
    "print(get_score()) # 記得呼叫功能要加()小括號"
   ]
  },
  {
   "cell_type": "code",
   "execution_count": 10,
   "metadata": {},
   "outputs": [
    {
     "data": {
      "text/plain": [
       "[{'chinese': 62, 'english': 88, 'math': 58, 'history': 77, 'geography': 59},\n",
       " {'chinese': 65, 'english': 70, 'math': 92, 'history': 72, 'geography': 71},\n",
       " {'chinese': 74, 'english': 67, 'math': 62, 'history': 83, 'geography': 79},\n",
       " {'chinese': 50, 'english': 71, 'math': 56, 'history': 72, 'geography': 72},\n",
       " {'chinese': 64, 'english': 83, 'math': 59, 'history': 94, 'geography': 81},\n",
       " {'chinese': 69, 'english': 58, 'math': 79, 'history': 81, 'geography': 98},\n",
       " {'chinese': 58, 'english': 70, 'math': 67, 'history': 83, 'geography': 83},\n",
       " {'chinese': 83, 'english': 84, 'math': 64, 'history': 55, 'geography': 71},\n",
       " {'chinese': 82, 'english': 59, 'math': 92, 'history': 89, 'geography': 74},\n",
       " {'chinese': 90, 'english': 63, 'math': 63, 'history': 55, 'geography': 56},\n",
       " {'chinese': 92, 'english': 100, 'math': 67, 'history': 74, 'geography': 91},\n",
       " {'chinese': 58, 'english': 75, 'math': 58, 'history': 64, 'geography': 51},\n",
       " {'chinese': 53, 'english': 89, 'math': 56, 'history': 55, 'geography': 98},\n",
       " {'chinese': 92, 'english': 74, 'math': 72, 'history': 91, 'geography': 78},\n",
       " {'chinese': 86, 'english': 91, 'math': 70, 'history': 84, 'geography': 92},\n",
       " {'chinese': 88, 'english': 100, 'math': 90, 'history': 71, 'geography': 96},\n",
       " {'chinese': 85, 'english': 95, 'math': 86, 'history': 89, 'geography': 90},\n",
       " {'chinese': 83, 'english': 57, 'math': 52, 'history': 57, 'geography': 83},\n",
       " {'chinese': 50, 'english': 84, 'math': 100, 'history': 54, 'geography': 66},\n",
       " {'chinese': 79, 'english': 87, 'math': 54, 'history': 98, 'geography': 88},\n",
       " {'chinese': 78, 'english': 72, 'math': 90, 'history': 94, 'geography': 60},\n",
       " {'chinese': 56, 'english': 53, 'math': 79, 'history': 97, 'geography': 72},\n",
       " {'chinese': 84, 'english': 55, 'math': 52, 'history': 74, 'geography': 58},\n",
       " {'chinese': 65, 'english': 96, 'math': 62, 'history': 59, 'geography': 77},\n",
       " {'chinese': 93, 'english': 86, 'math': 73, 'history': 82, 'geography': 81},\n",
       " {'chinese': 78, 'english': 50, 'math': 76, 'history': 89, 'geography': 95},\n",
       " {'chinese': 56, 'english': 63, 'math': 69, 'history': 92, 'geography': 71},\n",
       " {'chinese': 57, 'english': 91, 'math': 83, 'history': 82, 'geography': 87},\n",
       " {'chinese': 82, 'english': 66, 'math': 80, 'history': 50, 'geography': 86},\n",
       " {'chinese': 68, 'english': 85, 'math': 64, 'history': 88, 'geography': 95},\n",
       " {'chinese': 78, 'english': 70, 'math': 83, 'history': 81, 'geography': 61},\n",
       " {'chinese': 74, 'english': 72, 'math': 64, 'history': 72, 'geography': 85},\n",
       " {'chinese': 88, 'english': 50, 'math': 88, 'history': 82, 'geography': 84},\n",
       " {'chinese': 84, 'english': 62, 'math': 91, 'history': 67, 'geography': 79},\n",
       " {'chinese': 65, 'english': 93, 'math': 86, 'history': 69, 'geography': 78},\n",
       " {'chinese': 81, 'english': 75, 'math': 99, 'history': 66, 'geography': 99},\n",
       " {'chinese': 86, 'english': 93, 'math': 98, 'history': 82, 'geography': 100},\n",
       " {'chinese': 80, 'english': 55, 'math': 85, 'history': 88, 'geography': 72},\n",
       " {'chinese': 66, 'english': 93, 'math': 80, 'history': 75, 'geography': 91},\n",
       " {'chinese': 91, 'english': 89, 'math': 53, 'history': 80, 'geography': 52},\n",
       " {'chinese': 60, 'english': 59, 'math': 96, 'history': 56, 'geography': 95},\n",
       " {'chinese': 90, 'english': 74, 'math': 50, 'history': 78, 'geography': 57},\n",
       " {'chinese': 65, 'english': 70, 'math': 74, 'history': 71, 'geography': 100},\n",
       " {'chinese': 68, 'english': 52, 'math': 93, 'history': 68, 'geography': 53},\n",
       " {'chinese': 63, 'english': 64, 'math': 57, 'history': 64, 'geography': 58},\n",
       " {'chinese': 83, 'english': 68, 'math': 90, 'history': 86, 'geography': 53},\n",
       " {'chinese': 84, 'english': 80, 'math': 69, 'history': 93, 'geography': 76},\n",
       " {'chinese': 93, 'english': 76, 'math': 71, 'history': 80, 'geography': 62},\n",
       " {'chinese': 82, 'english': 98, 'math': 91, 'history': 94, 'geography': 67},\n",
       " {'chinese': 77, 'english': 92, 'math': 92, 'history': 88, 'geography': 60}]"
      ]
     },
     "execution_count": 10,
     "metadata": {},
     "output_type": "execute_result"
    }
   ],
   "source": [
    "#整合list、for in、dict\n",
    "#此為資料結構\n",
    "\n",
    "student_50 = []\n",
    "for _ in range(50):\n",
    "    student_50.append(get_score())\n",
    "student_50"
   ]
  }
 ],
 "metadata": {
  "kernelspec": {
   "display_name": "base",
   "language": "python",
   "name": "python3"
  },
  "language_info": {
   "codemirror_mode": {
    "name": "ipython",
    "version": 3
   },
   "file_extension": ".py",
   "mimetype": "text/x-python",
   "name": "python",
   "nbconvert_exporter": "python",
   "pygments_lexer": "ipython3",
   "version": "3.9.13"
  },
  "orig_nbformat": 4
 },
 "nbformat": 4,
 "nbformat_minor": 2
}
