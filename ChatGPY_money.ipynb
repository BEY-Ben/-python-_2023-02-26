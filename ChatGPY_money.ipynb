{
 "cells": [
  {
   "cell_type": "code",
   "execution_count": 2,
   "metadata": {},
   "outputs": [
    {
     "name": "stdout",
     "output_type": "stream",
     "text": [
      "<module 'datetime' from 'c:\\\\Python3810\\\\lib\\\\datetime.py'>\n",
      "已新增收入 100.0，當前餘額為 100.0\n",
      "輸入無效，請重新輸入。\n"
     ]
    },
    {
     "ename": "ValueError",
     "evalue": "invalid literal for int() with base 10: ''",
     "output_type": "error",
     "traceback": [
      "\u001b[1;31m---------------------------------------------------------------------------\u001b[0m",
      "\u001b[1;31mValueError\u001b[0m                                Traceback (most recent call last)",
      "Cell \u001b[1;32mIn[2], line 8\u001b[0m\n\u001b[0;32m      4\u001b[0m \u001b[39mprint\u001b[39m(datetime)\n\u001b[0;32m      6\u001b[0m \u001b[39mwhile\u001b[39;00m \u001b[39mTrue\u001b[39;00m:\n\u001b[0;32m      7\u001b[0m     \u001b[39m# 確定日期\u001b[39;00m\n\u001b[1;32m----> 8\u001b[0m     year \u001b[39m=\u001b[39m \u001b[39mint\u001b[39;49m (\u001b[39minput\u001b[39;49m(\u001b[39m\"\u001b[39;49m\u001b[39m請輸入年(西元)\u001b[39;49m\u001b[39m\"\u001b[39;49m))\n\u001b[0;32m      9\u001b[0m     month \u001b[39m=\u001b[39m \u001b[39mint\u001b[39m (\u001b[39minput\u001b[39m(\u001b[39m\"\u001b[39m\u001b[39m請輸入月\u001b[39m\u001b[39m\"\u001b[39m))\n\u001b[0;32m     10\u001b[0m     day \u001b[39m=\u001b[39m \u001b[39mint\u001b[39m (\u001b[39minput\u001b[39m(\u001b[39m\"\u001b[39m\u001b[39m請輸入日\u001b[39m\u001b[39m\"\u001b[39m))\n",
      "\u001b[1;31mValueError\u001b[0m: invalid literal for int() with base 10: ''"
     ]
    }
   ],
   "source": [
    "balance = 0  # 初始化餘額為0\n",
    "records = []  # 初始化紀錄為空列表\n",
    "\n",
    "while True:\n",
    "    print(\"請選擇操作：1-新增收入；2-新增支出；3-查看紀錄；4-退出\")\n",
    "    choice = int(input())\n",
    "\n",
    "    if choice == 1:\n",
    "        income = float(input(\"請輸入收入金額：\"))\n",
    "        balance += income\n",
    "        print(f\"已新增收入 {income}，當前餘額為 {balance}\")\n",
    "        records.append(('收入', income))  # 將新增的收入加入紀錄列表\n",
    "\n",
    "    elif choice == 2:\n",
    "        expense = float(input(\"請輸入支出金額：\"))\n",
    "        balance -= expense\n",
    "        print(f\"已新增支出 {expense}，當前餘額為 {balance}\")\n",
    "        records.append(('支出', expense))  # 將新增的支出加入紀錄列表\n",
    "\n",
    "    elif choice == 3:\n",
    "        print(\"紀錄：\")\n",
    "        for record in records:\n",
    "            print(f\"{record[0]} {record[1]}\")\n",
    "        print(f\"當前餘額為 {balance}\")\n",
    "\n",
    "    elif choice == 4:\n",
    "        break\n",
    "\n",
    "    else:\n",
    "        print(\"輸入無效，請重新輸入。\")\n",
    "\n",
    "print(\"程式已退出。\")\n"
   ]
  },
  {
   "cell_type": "code",
   "execution_count": 12,
   "metadata": {},
   "outputs": [
    {
     "name": "stdout",
     "output_type": "stream",
     "text": [
      "請選擇操作：1-新增收入；2-新增支出；3-查看紀錄；4-退出\n",
      "輸入無效，請重新輸入。\n",
      "請選擇操作：1-新增收入；2-新增支出；3-查看紀錄；4-退出\n",
      "已新增收入 1000.0，當前餘額為 1000.0\n",
      "請選擇操作：1-新增收入；2-新增支出；3-查看紀錄；4-退出\n"
     ]
    },
    {
     "ename": "FileNotFoundError",
     "evalue": "[Errno 2] No such file or directory: 'C:\\\\使用者\\\\Ben\\\\文件\\\\收支紀錄.xlsx'",
     "output_type": "error",
     "traceback": [
      "\u001b[1;31m---------------------------------------------------------------------------\u001b[0m",
      "\u001b[1;31mFileNotFoundError\u001b[0m                         Traceback (most recent call last)",
      "Cell \u001b[1;32mIn[12], line 44\u001b[0m\n\u001b[0;32m     40\u001b[0m     worksheet\u001b[39m.\u001b[39mappend((\u001b[39m'\u001b[39m\u001b[39m支出\u001b[39m\u001b[39m'\u001b[39m, expense, date))  \u001b[39m# 寫入Excel表格中\u001b[39;00m\n\u001b[0;32m     42\u001b[0m \u001b[39melif\u001b[39;00m choice \u001b[39m==\u001b[39m \u001b[39m3\u001b[39m:\n\u001b[0;32m     43\u001b[0m     \u001b[39m# 打開Excel檔案\u001b[39;00m\n\u001b[1;32m---> 44\u001b[0m     workbook \u001b[39m=\u001b[39m openpyxl\u001b[39m.\u001b[39;49mload_workbook(\u001b[39mr\u001b[39;49m\u001b[39m'\u001b[39;49m\u001b[39mC:\u001b[39;49m\u001b[39m\\\u001b[39;49m\u001b[39m使用者\u001b[39;49m\u001b[39m\\\u001b[39;49m\u001b[39mBen\u001b[39;49m\u001b[39m\\\u001b[39;49m\u001b[39m文件\u001b[39;49m\u001b[39m\\\u001b[39;49m\u001b[39m收支紀錄.xlsx\u001b[39;49m\u001b[39m'\u001b[39;49m)\n\u001b[0;32m     46\u001b[0m     \u001b[39m# 選擇工作表\u001b[39;00m\n\u001b[0;32m     47\u001b[0m     worksheet \u001b[39m=\u001b[39m workbook\u001b[39m.\u001b[39mactive\n",
      "File \u001b[1;32mc:\\Users\\Ben\\AppData\\Local\\Programs\\Python\\Python310\\lib\\site-packages\\openpyxl\\reader\\excel.py:344\u001b[0m, in \u001b[0;36mload_workbook\u001b[1;34m(filename, read_only, keep_vba, data_only, keep_links, rich_text)\u001b[0m\n\u001b[0;32m    314\u001b[0m \u001b[39mdef\u001b[39;00m \u001b[39mload_workbook\u001b[39m(filename, read_only\u001b[39m=\u001b[39m\u001b[39mFalse\u001b[39;00m, keep_vba\u001b[39m=\u001b[39mKEEP_VBA,\n\u001b[0;32m    315\u001b[0m                   data_only\u001b[39m=\u001b[39m\u001b[39mFalse\u001b[39;00m, keep_links\u001b[39m=\u001b[39m\u001b[39mTrue\u001b[39;00m, rich_text\u001b[39m=\u001b[39m\u001b[39mFalse\u001b[39;00m):\n\u001b[0;32m    316\u001b[0m \u001b[39m    \u001b[39m\u001b[39m\"\"\"Open the given filename and return the workbook\u001b[39;00m\n\u001b[0;32m    317\u001b[0m \n\u001b[0;32m    318\u001b[0m \u001b[39m    :param filename: the path to open or a file-like object\u001b[39;00m\n\u001b[1;32m   (...)\u001b[0m\n\u001b[0;32m    342\u001b[0m \n\u001b[0;32m    343\u001b[0m \u001b[39m    \"\"\"\u001b[39;00m\n\u001b[1;32m--> 344\u001b[0m     reader \u001b[39m=\u001b[39m ExcelReader(filename, read_only, keep_vba,\n\u001b[0;32m    345\u001b[0m                          data_only, keep_links, rich_text)\n\u001b[0;32m    346\u001b[0m     reader\u001b[39m.\u001b[39mread()\n\u001b[0;32m    347\u001b[0m     \u001b[39mreturn\u001b[39;00m reader\u001b[39m.\u001b[39mwb\n",
      "File \u001b[1;32mc:\\Users\\Ben\\AppData\\Local\\Programs\\Python\\Python310\\lib\\site-packages\\openpyxl\\reader\\excel.py:123\u001b[0m, in \u001b[0;36mExcelReader.__init__\u001b[1;34m(self, fn, read_only, keep_vba, data_only, keep_links, rich_text)\u001b[0m\n\u001b[0;32m    121\u001b[0m \u001b[39mdef\u001b[39;00m \u001b[39m__init__\u001b[39m(\u001b[39mself\u001b[39m, fn, read_only\u001b[39m=\u001b[39m\u001b[39mFalse\u001b[39;00m, keep_vba\u001b[39m=\u001b[39mKEEP_VBA,\n\u001b[0;32m    122\u001b[0m              data_only\u001b[39m=\u001b[39m\u001b[39mFalse\u001b[39;00m, keep_links\u001b[39m=\u001b[39m\u001b[39mTrue\u001b[39;00m, rich_text\u001b[39m=\u001b[39m\u001b[39mFalse\u001b[39;00m):\n\u001b[1;32m--> 123\u001b[0m     \u001b[39mself\u001b[39m\u001b[39m.\u001b[39marchive \u001b[39m=\u001b[39m _validate_archive(fn)\n\u001b[0;32m    124\u001b[0m     \u001b[39mself\u001b[39m\u001b[39m.\u001b[39mvalid_files \u001b[39m=\u001b[39m \u001b[39mself\u001b[39m\u001b[39m.\u001b[39marchive\u001b[39m.\u001b[39mnamelist()\n\u001b[0;32m    125\u001b[0m     \u001b[39mself\u001b[39m\u001b[39m.\u001b[39mread_only \u001b[39m=\u001b[39m read_only\n",
      "File \u001b[1;32mc:\\Users\\Ben\\AppData\\Local\\Programs\\Python\\Python310\\lib\\site-packages\\openpyxl\\reader\\excel.py:95\u001b[0m, in \u001b[0;36m_validate_archive\u001b[1;34m(filename)\u001b[0m\n\u001b[0;32m     88\u001b[0m             msg \u001b[39m=\u001b[39m (\u001b[39m'\u001b[39m\u001b[39mopenpyxl does not support \u001b[39m\u001b[39m%s\u001b[39;00m\u001b[39m file format, \u001b[39m\u001b[39m'\u001b[39m\n\u001b[0;32m     89\u001b[0m                    \u001b[39m'\u001b[39m\u001b[39mplease check you can open \u001b[39m\u001b[39m'\u001b[39m\n\u001b[0;32m     90\u001b[0m                    \u001b[39m'\u001b[39m\u001b[39mit with Excel first. \u001b[39m\u001b[39m'\u001b[39m\n\u001b[0;32m     91\u001b[0m                    \u001b[39m'\u001b[39m\u001b[39mSupported formats are: \u001b[39m\u001b[39m%s\u001b[39;00m\u001b[39m'\u001b[39m) \u001b[39m%\u001b[39m (file_format,\n\u001b[0;32m     92\u001b[0m                                                    \u001b[39m'\u001b[39m\u001b[39m,\u001b[39m\u001b[39m'\u001b[39m\u001b[39m.\u001b[39mjoin(SUPPORTED_FORMATS))\n\u001b[0;32m     93\u001b[0m         \u001b[39mraise\u001b[39;00m InvalidFileException(msg)\n\u001b[1;32m---> 95\u001b[0m archive \u001b[39m=\u001b[39m ZipFile(filename, \u001b[39m'\u001b[39;49m\u001b[39mr\u001b[39;49m\u001b[39m'\u001b[39;49m)\n\u001b[0;32m     96\u001b[0m \u001b[39mreturn\u001b[39;00m archive\n",
      "File \u001b[1;32mc:\\Users\\Ben\\AppData\\Local\\Programs\\Python\\Python310\\lib\\zipfile.py:1249\u001b[0m, in \u001b[0;36mZipFile.__init__\u001b[1;34m(self, file, mode, compression, allowZip64, compresslevel, strict_timestamps)\u001b[0m\n\u001b[0;32m   1247\u001b[0m \u001b[39mwhile\u001b[39;00m \u001b[39mTrue\u001b[39;00m:\n\u001b[0;32m   1248\u001b[0m     \u001b[39mtry\u001b[39;00m:\n\u001b[1;32m-> 1249\u001b[0m         \u001b[39mself\u001b[39m\u001b[39m.\u001b[39mfp \u001b[39m=\u001b[39m io\u001b[39m.\u001b[39;49mopen(file, filemode)\n\u001b[0;32m   1250\u001b[0m     \u001b[39mexcept\u001b[39;00m \u001b[39mOSError\u001b[39;00m:\n\u001b[0;32m   1251\u001b[0m         \u001b[39mif\u001b[39;00m filemode \u001b[39min\u001b[39;00m modeDict:\n",
      "\u001b[1;31mFileNotFoundError\u001b[0m: [Errno 2] No such file or directory: 'C:\\\\使用者\\\\Ben\\\\文件\\\\收支紀錄.xlsx'"
     ]
    }
   ],
   "source": [
    "import openpyxl\n",
    "from datetime import datetime\n",
    "'''\n",
    "這段代碼引入了Python的datetime模塊，它是Python中處理日期和時間的標準庫。\n",
    "通過導入datetime類，我們可以使用該類中提供的方法來處理日期和時間。\n",
    "在上面的程式碼中，我們使用了datetime類中的now()方法來獲取當前日期和時間。\n",
    "通過這個方法，我們可以在用戶未輸入日期的情況下，自動將當前日期和時間作為收支紀錄的日期。\n",
    "'''\n",
    "\n",
    "# 初始化Excel文件和工作表\n",
    "workbook = openpyxl.Workbook()\n",
    "worksheet = workbook.active\n",
    "worksheet.title = '收支紀錄'\n",
    "\n",
    "# 寫入表頭\n",
    "worksheet.cell(row=1, column=1, value='類型')\n",
    "worksheet.cell(row=1, column=2, value='金額')\n",
    "worksheet.cell(row=1, column=3, value='名稱')\n",
    "worksheet.cell(row=1, column=4, value='日期')\n",
    "\n",
    "# 初始化餘額為0\n",
    "balance = 0\n",
    "\n",
    "while True:\n",
    "    print(\"請選擇操作：1-新增收入；2-新增支出；3-查看紀錄；4-退出\")\n",
    "    choice = int(input())\n",
    "\n",
    "    if choice == 1:\n",
    "        income = float(input(\"請輸入收入金額：\"))\n",
    "        date = input(\"請輸入日期(格式為YYYY-MM-DD)：\")\n",
    "        balance += income\n",
    "        print(f\"已新增收入 {income}，當前餘額為 {balance}\")\n",
    "        worksheet.append(('收入', income, date))  # 寫入Excel表格中\n",
    "\n",
    "    elif choice == 2:\n",
    "        expense = float(input(\"請輸入支出金額：\"))\n",
    "        date = input(\"請輸入日期(格式為YYYY-MM-DD)：\")\n",
    "        balance -= expense\n",
    "        print(f\"已新增支出 {expense}，當前餘額為 {balance}\")\n",
    "        worksheet.append(('支出', expense, date))  # 寫入Excel表格中\n",
    "\n",
    "    elif choice == 3:\n",
    "        # 打開Excel檔案\n",
    "        workbook = openpyxl.load_workbook(r'C:\\使用者\\Ben\\文件\\收支紀錄.xlsx')\n",
    "\n",
    "        # 選擇工作表\n",
    "        worksheet = workbook.active\n",
    "\n",
    "        # 讀取所有的紀錄\n",
    "        print(\"紀錄：\")\n",
    "        for row in worksheet.iter_rows(values_only=True):\n",
    "            print(f\"{row[0]} {row[1]} {row[2]} {row[3]}\")\n",
    "        print(f\"當前餘額為 {balance}\")\n",
    "\n",
    "    elif choice == 4:\n",
    "        break\n",
    "\n",
    "    else:\n",
    "        print(\"輸入無效，請重新輸入。\")\n",
    "\n",
    "# 將Excel文件保存到磁盤如果你希望將 Excel 文件保存到 C:\\Users\\Username\\Documents 資料夾中，你可以使用以下程式碼：\n",
    "\n",
    "workbook.save(r'C:\\使用者\\Ben\\文件\\收支紀錄.xlsx')\n",
    "print(\"程式已退出。\")\n"
   ]
  }
 ],
 "metadata": {
  "kernelspec": {
   "display_name": "Python 3",
   "language": "python",
   "name": "python3"
  },
  "language_info": {
   "codemirror_mode": {
    "name": "ipython",
    "version": 3
   },
   "file_extension": ".py",
   "mimetype": "text/x-python",
   "name": "python",
   "nbconvert_exporter": "python",
   "pygments_lexer": "ipython3",
   "version": "3.10.10"
  },
  "orig_nbformat": 4
 },
 "nbformat": 4,
 "nbformat_minor": 2
}
