{
 "cells": [
  {
   "cell_type": "code",
   "execution_count": null,
   "metadata": {},
   "outputs": [],
   "source": [
    "### 以下是一個繪製3D建模的Python程式碼範例，使用了matplotlib的mplot3d工具包來實現\n",
    "# 這個程式碼會創建一個3D坐標系，然後繪製出一個三維的曲面圖。\n",
    "# 如果想繪製其他的3D建模，可以根據需要修改數據點的生成方式和繪圖函數。\n",
    "\n",
    "import numpy as np\n",
    "import matplotlib.pyplot as plt\n",
    "from mpl_toolkits.mplot3d import Axes3D\n",
    "\n",
    "# 創建3D坐標軸\n",
    "fig = plt.figure()\n",
    "ax = fig.add_subplot(111, projection='3d')\n",
    "\n",
    "# 創建數據點\n",
    "x = np.linspace(-5, 5, 100)\n",
    "y = np.linspace(-5, 5, 100)\n",
    "X, Y = np.meshgrid(x, y)\n",
    "Z = np.sin(np.sqrt(X ** 2 + Y ** 2))\n",
    "\n",
    "# 繪製3D曲面\n",
    "ax.plot_surface(X, Y, Z, cmap='coolwarm')\n",
    "\n",
    "# 設置坐標軸標籤和標題\n",
    "ax.set_xlabel('X Label')\n",
    "ax.set_ylabel('Y Label')\n",
    "ax.set_zlabel('Z Label')\n",
    "ax.set_title('3D Surface Plot')\n",
    "\n",
    "# 顯示圖形\n",
    "plt.show()\n"
   ]
  },
  {
   "cell_type": "code",
   "execution_count": null,
   "metadata": {},
   "outputs": [],
   "source": [
    "# 以下是一個簡單的示範程式碼，使用了Python的Blender庫來建立一個基本的人體3D模型：\n",
    "# 這個程式碼會建立一個包含基本人體形狀的3D模型，並使用Blender庫中的一些內建函數和方法來設置材質和視圖。\n",
    "# 請注意，Blender是一個功能強大的3D建模軟體，\n",
    "# 如果您需要進一步自訂和完善模型，建議您先學習Blender的基本操作和技巧。\n",
    "\n",
    "import bpy\n",
    "from math import pi\n",
    "\n",
    "# 新建一個網格物件和一個物體\n",
    "mesh = bpy.data.meshes.new('HumanMesh')\n",
    "obj = bpy.data.objects.new('Human', mesh)\n",
    "\n",
    "# 將物體添加到場景中\n",
    "scene = bpy.context.scene\n",
    "scene.objects.link(obj)\n",
    "scene.objects.active = obj\n",
    "obj.select = True\n",
    "\n",
    "# 定義頂點和面\n",
    "verts = [(1,1,1), (1,1,-1), (1,-1,-1), (1,-1,1),\n",
    "         (-1,1,1), (-1,1,-1), (-1,-1,-1), (-1,-1,1),\n",
    "         (0,2,0), (0,-2,0), (2,0,0), (-2,0,0), (0,0,2), (0,0,-2)]\n",
    "faces = [(0,1,2,3), (4,7,6,5), (0,4,5,1), (1,5,6,2), (2,6,7,3), (4,0,3,7), \n",
    "         (8,0,1), (9,4,0), (10,1,2), (11,4,5), (12,2,3), (13,7,3)]\n",
    "\n",
    "# 建立網格\n",
    "mesh.from_pydata(verts, [], faces)\n",
    "\n",
    "# 設定材質\n",
    "mat = bpy.data.materials.new(name='Skin')\n",
    "mat.diffuse_color = (0.8, 0.6, 0.5)\n",
    "obj.data.materials.append(mat)\n",
    "\n",
    "# 設定預設視圖\n",
    "bpy.ops.object.mode_set(mode='EDIT')\n",
    "bpy.ops.mesh.select_all(action='SELECT')\n",
    "bpy.ops.mesh.subdivide(number_cuts=3, smoothness=0.5)\n",
    "bpy.ops.object.mode_set(mode='OBJECT')\n",
    "obj.rotation_euler = (pi/2,0,0)\n"
   ]
  }
 ],
 "metadata": {
  "kernelspec": {
   "display_name": "Python 3",
   "language": "python",
   "name": "python3"
  },
  "language_info": {
   "name": "python",
   "version": "3.8.10"
  },
  "orig_nbformat": 4,
  "vscode": {
   "interpreter": {
    "hash": "04e29b589f5eb40cab934003b6e1c45a9fddb347990af479a3e481f119517905"
   }
  }
 },
 "nbformat": 4,
 "nbformat_minor": 2
}
