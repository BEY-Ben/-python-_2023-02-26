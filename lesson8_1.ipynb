{
 "cells": [
  {
   "cell_type": "code",
   "execution_count": 9,
   "metadata": {},
   "outputs": [
    {
     "name": "stdout",
     "output_type": "stream",
     "text": [
      "{2, 4, 6, 8, 10}\n",
      "{1, 4}\n",
      "{'r', 't', 'e', 's', 'l'}\n"
     ]
    }
   ],
   "source": [
    "'''\n",
    "dict透過key+value\n",
    "list透過value\n",
    "set裡面預設是空的格式\n",
    "'''\n",
    "\n",
    "### set的元素不可以重複\n",
    "### set的元素不可以重複\n",
    "### set的元素不可以重複\n",
    "### set的元素不可以重複\n",
    "### set的元素不可以重複\n",
    "\n",
    "## 若有兩個set 可以做集合運算，交集、聯集、差集\n",
    "'''\n",
    "set建立的符號表示法：\n",
    "{value,value,value}\n",
    "\n",
    "function為set()\n",
    "\n",
    "建立空的set不可直接用{}，這代表dict\n",
    "只能用function建立空的set，如set()\n",
    "'''\n",
    "\n",
    "empty_set = set()\n",
    "type(empty_set)\n",
    "\n",
    "even_numbers = {2,4,6,8,10,2,4,6,8,10} #元素不可重複\n",
    "print(even_numbers)\n",
    "\n",
    "a = {1,2,3,4,5,6,7,8}\n",
    "b = {2,3,5,6,7,8,9}\n",
    "print(a - b)\n",
    "\n",
    "print(set('letters'))"
   ]
  },
  {
   "cell_type": "code",
   "execution_count": 23,
   "metadata": {},
   "outputs": [
    {
     "name": "stdout",
     "output_type": "stream",
     "text": [
      "ans1: {'b', 'g', 'a', 'c', 'e', 'f', 'd'} {'g', 'a', 'f', 'w', 's', 'd'}\n",
      "ans2: {'b', 'c', 'e'}\n",
      "ans3: {'b', 'g', 'c', 'a'}\n",
      "ans4: {'g', 'a', 'f', 'w', 's', 'd'}\n",
      "ans5: {'d', 'g', 'f', 'a'}\n",
      "ans6: {'b', 'g', 'a', 'c', 'e', 'f', '2', 'w', 's', 'h', 'd'}\n",
      "ans7: {'b', 'g', 'a', 'c', 'e', 'f', 'w', 's', 'd'}\n"
     ]
    }
   ],
   "source": [
    "set_a = set('abcdefg')\n",
    "set_b = set('dasfgwffw')\n",
    "set_c = {'2','e','d','s','f','d','h','f','h'}\n",
    "\n",
    "#列出兩個集合的所有的元素\n",
    "print('ans1:',set_a, set_b)\n",
    "\n",
    "#兩個集合相減後剩餘的，差集\n",
    "print('ans2:',set_a - set_b)\n",
    "print('ans3:',set_a - set_c)\n",
    "\n",
    "# 兩個集合內，所有重複的項目\n",
    "print('ans4:',set_a and set_b) \n",
    "#交集\n",
    "print('ans5:',set_a & set_b)\n",
    "\n",
    "#聯集\n",
    "print('ans6:',set_a | set_b | set_c)\n",
    "print('ans7:',set_a | set_b)"
   ]
  },
  {
   "cell_type": "code",
   "execution_count": 22,
   "metadata": {},
   "outputs": [
    {
     "name": "stdout",
     "output_type": "stream",
     "text": [
      "本期號碼: 35\n",
      "本期號碼: 3\n",
      "本期號碼: 4\n",
      "本期號碼: 39\n",
      "本期號碼: 10\n",
      "本期號碼: 44\n",
      "本期號碼: 24\n",
      "本組號碼: [35, 3, 4, 39, 10, 44] 特別號: 24\n",
      "本組號碼: None\n",
      "本組號碼: [3, 4, 10, 35, 39, 44]\n",
      "數字加總: 135\n"
     ]
    }
   ],
   "source": [
    "###題目:撰寫一個大樂透電腦自動選號程式，程式執行會以亂數的方式顯示1~49之間七個不重複的大樂透號碼\n",
    "\n",
    "import random\n",
    "\n",
    "#建立一個空的集合\n",
    "biglottery = set()\n",
    "\n",
    "#不停的亂數產生數字並放進set，直到set裡的數值不小於7個的時候，跳出迴圈\n",
    "while(len(biglottery) < 7): \n",
    "    biglottery.add(random.randint(1,49))\n",
    "\n",
    "#取出set裡的值，但沒有索引編號\n",
    "for element in biglottery:\n",
    "    print('本期號碼:',end=' ')\n",
    "    print(element)\n",
    "\n",
    "#轉成list\n",
    "lottery_list = list(biglottery)\n",
    "\n",
    "#顯示前6個大樂透號碼\n",
    "print('本組號碼:',lottery_list[:6],end=' ')\n",
    "\n",
    "#顯示特別號\n",
    "print('特別號:',lottery_list[-1])\n",
    "\n",
    "print('本組號碼:',lottery_list[:6].sort()) #.srot不會直接傳出值\n",
    "print('本組號碼:',sorted(lottery_list[:6])) # 使用sorted才會傳出排序後的值\n",
    "\n",
    "#加總所有數字sum\n",
    "print('數字加總:',sum(lottery_list[:6]))"
   ]
  },
  {
   "cell_type": "code",
   "execution_count": 23,
   "metadata": {},
   "outputs": [
    {
     "name": "stdout",
     "output_type": "stream",
     "text": [
      "第1組\n",
      "本組號碼: [11, 22, 33, 37, 44, 49] 特別號: 31\n",
      "第2組\n",
      "本組號碼: [2, 14, 20, 39, 42, 69] 特別號: 60\n",
      "第3組\n",
      "本組號碼: [4, 10, 22, 36, 51, 57] 特別號: 31\n",
      "第4組\n",
      "本組號碼: [3, 4, 8, 15, 46, 65] 特別號: 28\n"
     ]
    }
   ],
   "source": [
    "#運用function功能建立邏輯運算結構\n",
    "import random\n",
    "\n",
    "def generate_lottery():\n",
    "    biglottery = set()\n",
    "    while (len(biglottery) < 7):\n",
    "        biglottery.add(random.randint(1,69))\n",
    "    \n",
    "    lottery_list = list(biglottery)\n",
    "    print(\"本組號碼:\",end=' ')\n",
    "    print(sorted(lottery_list[:6]),end=' ')\n",
    "    print(\"特別號:\",end=' ')\n",
    "    print(lottery_list[-1])\n",
    "\n",
    "nums = int(input(\"請輸入大樂透電腦選號的組數\"))\n",
    "\n",
    "for i in range(nums):\n",
    "    print(f\"第{i+1}組\")\n",
    "    generate_lottery()"
   ]
  }
 ],
 "metadata": {
  "kernelspec": {
   "display_name": "base",
   "language": "python",
   "name": "python3"
  },
  "language_info": {
   "codemirror_mode": {
    "name": "ipython",
    "version": 3
   },
   "file_extension": ".py",
   "mimetype": "text/x-python",
   "name": "python",
   "nbconvert_exporter": "python",
   "pygments_lexer": "ipython3",
   "version": "3.8.10"
  },
  "orig_nbformat": 4
 },
 "nbformat": 4,
 "nbformat_minor": 2
}
