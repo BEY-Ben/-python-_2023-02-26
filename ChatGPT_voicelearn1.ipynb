{
 "cells": [
  {
   "cell_type": "code",
   "execution_count": null,
   "metadata": {},
   "outputs": [],
   "source": [
    "# ChatGPT以python撰寫聲型辨識的程式碼\n",
    "\n",
    "# 這個範例使用了三個不同頻率的正弦波作為訓練資料，\n",
    "# 並使用相關係數作為判斷聲音相似度的方法。當你輸入一個聲音波形，\n",
    "# 程式會將其與訓練資料中的三個正弦波進行比較，找出最相似的聲音名稱並輸出。\n",
    "# 你可以根據自己的需求修改和擴充這個程式。\n",
    "\n",
    "import numpy as np\n",
    "import scipy.signal as signal\n",
    "\n",
    "# 訓練資料\n",
    "train_data = {\n",
    "    'sound1': np.sin(np.linspace(0, 2000*np.pi, 8000)),\n",
    "    'sound2': np.sin(np.linspace(0, 1000*np.pi, 8000)),\n",
    "    'sound3': np.sin(np.linspace(0, 3000*np.pi, 8000))\n",
    "}\n",
    "\n",
    "# 傳入要辨識的聲音波形，回傳最相似的聲音名稱\n",
    "def recognize_sound(input_sound, train_data):\n",
    "    max_corr = -1\n",
    "    max_sound = ''\n",
    "    for sound_name, sound_data in train_data.items():\n",
    "        corr = np.corrcoef(input_sound, sound_data)[0, 1]\n",
    "        if corr > max_corr:\n",
    "            max_corr = corr\n",
    "            max_sound = sound_name\n",
    "    return max_sound\n",
    "\n",
    "# 測試資料\n",
    "test_data = np.sin(np.linspace(0, 4000*np.pi, 8000))\n",
    "\n",
    "# 辨識\n",
    "result = recognize_sound(test_data, train_data)\n",
    "print(result)\n"
   ]
  }
 ],
 "metadata": {
  "kernelspec": {
   "display_name": "Python 3",
   "language": "python",
   "name": "python3"
  },
  "language_info": {
   "name": "python",
   "version": "3.8.10"
  },
  "orig_nbformat": 4,
  "vscode": {
   "interpreter": {
    "hash": "04e29b589f5eb40cab934003b6e1c45a9fddb347990af479a3e481f119517905"
   }
  }
 },
 "nbformat": 4,
 "nbformat_minor": 2
}
