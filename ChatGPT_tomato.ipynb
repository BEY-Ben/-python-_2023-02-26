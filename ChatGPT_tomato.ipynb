{
 "cells": [
  {
   "cell_type": "code",
   "execution_count": null,
   "metadata": {},
   "outputs": [],
   "source": [
    "### 番茄工作法是一種管理時間的方法，\n",
    "# 透過設定固定時間的工作區塊和休息時間，來提高工作效率。\n",
    "# 以下是一個用 Python 實現的簡單番茄工作法程式範例：\n",
    "\n",
    "import time\n",
    "\n",
    "def work(minutes):\n",
    "    print(f\"Work for {minutes} minutes\")\n",
    "    time.sleep(minutes * 60)\n",
    "\n",
    "def rest(minutes):\n",
    "    print(f\"Rest for {minutes} minutes\")\n",
    "    time.sleep(minutes * 60)\n",
    "\n",
    "def tomato_timer():\n",
    "    rounds = int(input(\"How many rounds do you want to work? \"))\n",
    "    work_time = int(input(\"How long do you want to work for each round (in minutes)? \"))\n",
    "    rest_time = int(input(\"How long do you want to rest for each round (in minutes)? \"))\n",
    "    for i in range(rounds):\n",
    "        work(work_time)\n",
    "        rest(rest_time)\n",
    "    print(\"All done!\")\n",
    "\n",
    "if __name__ == \"__main__\":\n",
    "    tomato_timer()\n",
    "\n",
    "\n",
    "### 此程式將會提示使用者輸入需要工作的回合數、每回合工作時間、以及每回合休息時間。\n",
    "# 接下來，透過 time 模組的 sleep 函式來實現時間的暫停。最後顯示 \"All done!\" 以結束程式。"
   ]
  }
 ],
 "metadata": {
  "language_info": {
   "name": "python"
  },
  "orig_nbformat": 4
 },
 "nbformat": 4,
 "nbformat_minor": 2
}
