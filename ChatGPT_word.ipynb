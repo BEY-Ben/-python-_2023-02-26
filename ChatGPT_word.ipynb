{
 "cells": [
  {
   "cell_type": "code",
   "execution_count": 1,
   "metadata": {},
   "outputs": [
    {
     "ename": "ModuleNotFoundError",
     "evalue": "No module named 'docx'",
     "output_type": "error",
     "traceback": [
      "\u001b[1;31m---------------------------------------------------------------------------\u001b[0m",
      "\u001b[1;31mModuleNotFoundError\u001b[0m                       Traceback (most recent call last)",
      "Cell \u001b[1;32mIn[1], line 7\u001b[0m\n\u001b[0;32m      5\u001b[0m \u001b[39mimport\u001b[39;00m \u001b[39mtkinter\u001b[39;00m \u001b[39mas\u001b[39;00m \u001b[39mtk\u001b[39;00m\n\u001b[0;32m      6\u001b[0m \u001b[39mfrom\u001b[39;00m \u001b[39mtkinter\u001b[39;00m \u001b[39mimport\u001b[39;00m filedialog\n\u001b[1;32m----> 7\u001b[0m \u001b[39mfrom\u001b[39;00m \u001b[39mdocx\u001b[39;00m \u001b[39mimport\u001b[39;00m Document\n\u001b[0;32m      9\u001b[0m \u001b[39mclass\u001b[39;00m \u001b[39mWordProcessor\u001b[39;00m:\n\u001b[0;32m     10\u001b[0m     \u001b[39mdef\u001b[39;00m \u001b[39m__init__\u001b[39m(\u001b[39mself\u001b[39m, master):\n",
      "\u001b[1;31mModuleNotFoundError\u001b[0m: No module named 'docx'"
     ]
    }
   ],
   "source": [
    "# 這是一個相容於 Microsoft Word 的簡單範例程式碼，\n",
    "# 使用 Python 的 Tkinter 套件建立圖形介面，\n",
    "# 並使用 docx 套件進行 Word 檔案的創建和保存。\n",
    "\n",
    "import tkinter as tk\n",
    "from tkinter import filedialog\n",
    "from docx import Document\n",
    "\n",
    "class WordProcessor:\n",
    "    def __init__(self, master):\n",
    "        self.master = master\n",
    "        master.title(\"Word Processor\")\n",
    "\n",
    "        self.text = tk.Text(master)\n",
    "        self.text.pack()\n",
    "\n",
    "        self.button_save = tk.Button(master, text=\"Save\", command=self.save_file)\n",
    "        self.button_save.pack()\n",
    "\n",
    "    def save_file(self):\n",
    "        text_content = self.text.get(\"1.0\", \"end-1c\")\n",
    "        file_path = filedialog.asksaveasfilename(defaultextension=\".docx\")\n",
    "\n",
    "        document = Document()\n",
    "        document.add_paragraph(text_content)\n",
    "        document.save(file_path)\n",
    "\n",
    "root = tk.Tk()\n",
    "app = WordProcessor(root)\n",
    "root.mainloop()\n",
    "\n",
    "\n",
    "# 在這個程式中，使用者可以在 GUI 中輸入內容，並透過按下「Save」按鈕來儲存到 .docx 檔案中。"
   ]
  },
  {
   "cell_type": "code",
   "execution_count": null,
   "metadata": {},
   "outputs": [],
   "source": [
    "# 下載docx套件的命令碼\n",
    "pip install python-docx\n",
    "\n",
    "# 下載套件的命令碼\n",
    "pip install [套件名稱]"
   ]
  },
  {
   "cell_type": "code",
   "execution_count": null,
   "metadata": {},
   "outputs": [],
   "source": [
    "### 以下是一個可以用來輸入和儲存相容於 Microsoft Word 的程式，使用 C# 語言以及 DocX 套件：\n",
    "\n",
    "using System;\n",
    "using Xceed.Words.NET;\n",
    "\n",
    "namespace WordDoc\n",
    "{\n",
    "    class Program\n",
    "    {\n",
    "        static void Main(string[] args)\n",
    "        {\n",
    "            // 建立一個新的 Word 文件\n",
    "            using (DocX document = DocX.Create(@\"C:\\Users\\Username\\Desktop\\Test.docx\"))\n",
    "            {\n",
    "                // 新增一個段落並設定內容\n",
    "                Paragraph p1 = document.InsertParagraph();\n",
    "                p1.Append(\"Hello World!\").Bold();\n",
    "\n",
    "                // 新增一個表格並設定內容\n",
    "                Table t1 = document.AddTable(2, 2);\n",
    "                t1.Rows[0].Cells[0].Paragraphs.First().Append(\"Row 1, Col 1\");\n",
    "                t1.Rows[0].Cells[1].Paragraphs.First().Append(\"Row 1, Col 2\");\n",
    "                t1.Rows[1].Cells[0].Paragraphs.First().Append(\"Row 2, Col 1\");\n",
    "                t1.Rows[1].Cells[1].Paragraphs.First().Append(\"Row 2, Col 2\");\n",
    "\n",
    "                // 儲存 Word 文件\n",
    "                document.Save();\n",
    "            }\n",
    "        }\n",
    "    }\n",
    "}\n",
    "\n",
    "### 此程式碼使用 DocX 套件來建立和編輯 Word 文件，並可自行修改儲存路徑和內容。"
   ]
  },
  {
   "cell_type": "code",
   "execution_count": null,
   "metadata": {},
   "outputs": [],
   "source": [
    "# 以下是使用Python環境的Word輸入和儲存[圖片]的範例程式碼：\n",
    "\n",
    "from docx import Document\n",
    "from docx.shared import Inches\n",
    "\n",
    "# 創建一個新的Word文件\n",
    "document = Document()\n",
    "\n",
    "# 新增標題\n",
    "document.add_heading('Document Title', 0)\n",
    "\n",
    "# 新增段落\n",
    "p = document.add_paragraph('A plain paragraph having some ')\n",
    "p.add_run('bold').bold = True\n",
    "p.add_run(' and some ')\n",
    "p.add_run('italic.').italic = True\n",
    "\n",
    "# 新增圖片\n",
    "document.add_picture('image.png', width=Inches(1.25))\n",
    "\n",
    "# 新增表格\n",
    "table = document.add_table(rows=2, cols=2)\n",
    "cell = table.cell(0, 1)\n",
    "cell.text = '中文'\n",
    "\n",
    "# 儲存文件\n",
    "document.save('test.docx')\n",
    "\n",
    "\n",
    "### 您可以使用您喜歡的Python編輯器（例如IDLE、PyCharm等）打開一個新檔案，\n",
    "# 將上面的程式碼複製並貼到檔案中。\n",
    "# 接著，將範例程式碼中的圖片替換成您想要加入文件的圖片，\n",
    "# 將文件名和路徑改成您想要儲存的位置和檔名，\n",
    "# 最後執行程式碼即可。"
   ]
  },
  {
   "cell_type": "code",
   "execution_count": null,
   "metadata": {},
   "outputs": [],
   "source": [
    "### 若想要在 Word 中新增文字內容，\n",
    "# 可以使用 python-docx 中的 Document() 類別建立一個新的 Word 文件，\n",
    "# 並使用 add_paragraph() 方法新增段落，\n",
    "# 再使用 add_run() 方法新增文字內容。以下是範例程式碼：\n",
    "\n",
    "from docx import Document\n",
    "from docx.shared import Inches\n",
    "\n",
    "# 新建一個 Word 文件\n",
    "document = Document()\n",
    "\n",
    "# 新增一個段落\n",
    "paragraph = document.add_paragraph()\n",
    "\n",
    "# 在段落中新增文字內容\n",
    "run = paragraph.add_run('Hello, World!')\n",
    "\n",
    "# 儲存文件\n",
    "document.save('example.docx')\n",
    "\n",
    "\n",
    "### 此程式碼會建立一個新的 Word 文件，新增一個段落並在其中新增文字內容為 \"Hello, World!\"，\n",
    "# 最後將文件儲存為 example.docx。"
   ]
  }
 ],
 "metadata": {
  "kernelspec": {
   "display_name": "Python 3",
   "language": "python",
   "name": "python3"
  },
  "language_info": {
   "codemirror_mode": {
    "name": "ipython",
    "version": 3
   },
   "file_extension": ".py",
   "mimetype": "text/x-python",
   "name": "python",
   "nbconvert_exporter": "python",
   "pygments_lexer": "ipython3",
   "version": "3.8.10"
  },
  "orig_nbformat": 4,
  "vscode": {
   "interpreter": {
    "hash": "04e29b589f5eb40cab934003b6e1c45a9fddb347990af479a3e481f119517905"
   }
  }
 },
 "nbformat": 4,
 "nbformat_minor": 2
}
