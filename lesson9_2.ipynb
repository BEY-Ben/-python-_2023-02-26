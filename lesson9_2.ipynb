{
 "cells": [
  {
   "cell_type": "code",
   "execution_count": 2,
   "metadata": {},
   "outputs": [
    {
     "name": "stdout",
     "output_type": "stream",
     "text": [
      "sandwiches\n",
      "4\n",
      "apple\n",
      "12\n",
      "cups\n",
      "4\n",
      "cookies\n",
      "34\n",
      "==PICNIT ITEMS==\n",
      "sandwiches..   4\n",
      "apple.......  12\n",
      "cups........   4\n",
      "cookies.....  34\n"
     ]
    }
   ],
   "source": [
    "## printPicnic(dictionary,leftWidth,rightWidth)->None\n",
    "## printPicnic(字典內的字,左邊的寬度,右邊的寬度)\n",
    "## printPicnic(sandwiches,12,5) #總共顯示12+5共17個字\n",
    "\n",
    "##範例\n",
    "picnicItems = {'sandwiches': 4, \n",
    "               'apple':12,\n",
    "               'cups':4,\n",
    "               'cookies':34\n",
    "               }\n",
    "\n",
    "for k,v in picnicItems.items(): # item傳出(key,value)\n",
    "    print(k)\n",
    "    print(v)\n",
    "\n",
    "## 字串的實體方法\n",
    "## 語法很多，一定要學會查資料，因為一定會忘掉\n",
    "print('PICNIT ITEMS'.center(16,'=')) #str.center總共16字，文字置中，其他用\"=\"填補\n",
    "for k,v in picnicItems.items(): # item傳出(key,value)\n",
    "    print(k.ljust(12,'.')+ str(v).rjust(4)) # 將數字轉成字串"
   ]
  },
  {
   "cell_type": "code",
   "execution_count": 3,
   "metadata": {},
   "outputs": [
    {
     "name": "stdout",
     "output_type": "stream",
     "text": [
      "====PICNIT ITEMS====\n",
      "sandwiches..   4\n",
      "apple.......  12\n",
      "cups........   4\n",
      "cookies.....  34\n",
      "=======PICNIT ITEMS=======\n",
      "sandwiches..   4\n",
      "apple.......  12\n",
      "cups........   4\n",
      "cookies.....  34\n"
     ]
    }
   ],
   "source": [
    "def printPicnic(itemsDict,leftWidth,rightWidth)->None:\n",
    "    print('PICNIT ITEMS'.center(leftWidth+rightWidth,'='))\n",
    "    for k,v in itemsDict.items():\n",
    "         print(k.ljust(12,'.')+ str(v).rjust(4))\n",
    "\n",
    "\n",
    "picnicItems = {'sandwiches': 4, \n",
    "               'apple':12,\n",
    "               'cups':4,\n",
    "               'cookies':34\n",
    "               }\n",
    "\n",
    "printPicnic(picnicItems,16,4)\n",
    "printPicnic(picnicItems,20,6)"
   ]
  }
 ],
 "metadata": {
  "kernelspec": {
   "display_name": "base",
   "language": "python",
   "name": "python3"
  },
  "language_info": {
   "codemirror_mode": {
    "name": "ipython",
    "version": 3
   },
   "file_extension": ".py",
   "mimetype": "text/x-python",
   "name": "python",
   "nbconvert_exporter": "python",
   "pygments_lexer": "ipython3",
   "version": "3.9.13"
  },
  "orig_nbformat": 4
 },
 "nbformat": 4,
 "nbformat_minor": 2
}
