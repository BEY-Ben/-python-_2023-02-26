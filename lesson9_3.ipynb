{
 "cells": [
  {
   "cell_type": "code",
   "execution_count": 2,
   "metadata": {},
   "outputs": [
    {
     "name": "stdout",
     "output_type": "stream",
     "text": [
      "格式正確\n"
     ]
    }
   ],
   "source": [
    "# 檢查台灣手機號碼輸入格式(xxxx-xxx-xxx)\n",
    "phone_num = input('請輸入手機號碼(xxxx-xxx-xxx):')\n",
    "if len(phone_num) != 12:\n",
    "    print(\"長度不對\")\n",
    "elif not phone_num[:4].isdigit(): #判斷前4個(0~3)是不是數字 phone_num[-4:]後4個到最後\n",
    "    print('前面4個不對')\n",
    "elif phone_num[4] != \"-\": #第4個字是不是-\n",
    "    print(\"符號要求-\")\n",
    "elif not phone_num[5:8].isdigit():\n",
    "    print(\"中間3個字不是數字\")\n",
    "elif phone_num[8] != '-':\n",
    "    print(\"符號要求-\")\n",
    "elif not phone_num[-3:].isdigit():\n",
    "    print(\"最後3個字不是數字\")\n",
    "else:\n",
    "    print(\"格式正確\")"
   ]
  }
 ],
 "metadata": {
  "kernelspec": {
   "display_name": "base",
   "language": "python",
   "name": "python3"
  },
  "language_info": {
   "codemirror_mode": {
    "name": "ipython",
    "version": 3
   },
   "file_extension": ".py",
   "mimetype": "text/x-python",
   "name": "python",
   "nbconvert_exporter": "python",
   "pygments_lexer": "ipython3",
   "version": "3.9.13"
  },
  "orig_nbformat": 4
 },
 "nbformat": 4,
 "nbformat_minor": 2
}
