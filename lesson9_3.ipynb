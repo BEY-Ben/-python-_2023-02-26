{
 "cells": [
  {
   "cell_type": "code",
   "execution_count": 2,
   "metadata": {},
   "outputs": [
    {
     "name": "stdout",
     "output_type": "stream",
     "text": [
      "格式正確\n"
     ]
    }
   ],
   "source": [
    "# 檢查台灣手機號碼輸入格式(xxxx-xxx-xxx)\n",
    "phone_num = input('請輸入手機號碼(xxxx-xxx-xxx):')\n",
    "if len(phone_num) != 12:\n",
    "    print(\"長度不對\")\n",
    "elif not phone_num[:4].isdigit(): #判斷前4個(0~3)是不是數字 phone_num[-4:]後4個到最後\n",
    "    print('前面4個不對')\n",
    "elif phone_num[4] != \"-\": #第4個字是不是-\n",
    "    print(\"符號要求-\")\n",
    "elif not phone_num[5:8].isdigit():\n",
    "    print(\"中間3個字不是數字\")\n",
    "elif phone_num[8] != '-':\n",
    "    print(\"符號要求-\")\n",
    "elif not phone_num[-3:].isdigit():\n",
    "    print(\"最後3個字不是數字\")\n",
    "else:\n",
    "    print(\"格式正確\")\n"
   ]
  },
  {
   "cell_type": "code",
   "execution_count": 7,
   "metadata": {},
   "outputs": [
    {
     "name": "stdout",
     "output_type": "stream",
     "text": [
      "格式正確\n",
      "您的電話號碼為:0985-971-985\n"
     ]
    }
   ],
   "source": [
    "### 更改為function\n",
    "def isPhoneNumber(text):\n",
    "    if len(text) != 12:\n",
    "        return(\"長度不對\")\n",
    "    elif not text[:4].isdigit(): #判斷前4個(0~3)是不是數字 phone_num[-4:]後4個到最後\n",
    "        return('前面4個不對')\n",
    "    elif text[4] != \"-\": #第4個字是不是-\n",
    "        return(\"符號要求-\")\n",
    "    elif not text[5:8].isdigit():\n",
    "        return(\"中間3個字不是數字\")\n",
    "    elif text[8] != '-':\n",
    "        return(\"符號要求-\")\n",
    "    elif not text[-3:].isdigit():\n",
    "        return(\"最後3個字不是數字\")\n",
    "    else:\n",
    "        return(\"格式正確\")\n",
    "        \n",
    "    \n",
    "phone_num = input('請輸入手機號碼(xxxx-xxx-xxx):')\n",
    "print(isPhoneNumber(phone_num))\n",
    "print(f'您的電話號碼為:{phone_num}')\n",
    "\n",
    "\n",
    "### 正規則表達式 下堂課教學"
   ]
  }
 ],
 "metadata": {
  "kernelspec": {
   "display_name": "base",
   "language": "python",
   "name": "python3"
  },
  "language_info": {
   "codemirror_mode": {
    "name": "ipython",
    "version": 3
   },
   "file_extension": ".py",
   "mimetype": "text/x-python",
   "name": "python",
   "nbconvert_exporter": "python",
   "pygments_lexer": "ipython3",
   "version": "3.9.13"
  },
  "orig_nbformat": 4
 },
 "nbformat": 4,
 "nbformat_minor": 2
}
