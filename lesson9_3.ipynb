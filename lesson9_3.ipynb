{
 "cells": [
  {
   "cell_type": "code",
   "execution_count": null,
   "metadata": {},
   "outputs": [],
   "source": [
    "# 檢查台灣手機號碼輸入格式(xxxx-xxx-xxx)\n",
    "phone_num = input('請輸入手機號碼(xxxx-xxx-xxx):')\n",
    "if len(phone_num) != 12:\n",
    "    print(\"長度不對\")"
   ]
  }
 ],
 "metadata": {
  "kernelspec": {
   "display_name": "base",
   "language": "python",
   "name": "python3"
  },
  "language_info": {
   "name": "python",
   "version": "3.9.13"
  },
  "orig_nbformat": 4
 },
 "nbformat": 4,
 "nbformat_minor": 2
}
