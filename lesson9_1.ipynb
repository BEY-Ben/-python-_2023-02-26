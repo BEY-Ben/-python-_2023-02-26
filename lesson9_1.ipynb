{
 "cells": [
  {
   "cell_type": "code",
   "execution_count": null,
   "metadata": {},
   "outputs": [],
   "source": [
    "'''複習:\n",
    "python的資料結構tuple、list、dictionary、set\n",
    "可以將很多資料，暫時儲存在記憶體(RAM)內\n",
    "也就是說，關掉應用程式就是將記憶體內儲存的資料刪除\n",
    "為何要儲存？有時會需要連結外部的檔案\n",
    "想要永久保存，就要儲存在CSV檔內，但內容是純文字\n",
    "\n",
    "資料結構不是一個變數這麼簡單而已\n",
    "\n",
    "跟老師學，要學會查資料，內建工具箱很多，你沒辦法記下來的\n",
    "'''"
   ]
  },
  {
   "cell_type": "code",
   "execution_count": null,
   "metadata": {},
   "outputs": [],
   "source": [
    "#今日進度：更進階的資料結構\n",
    "'''\n",
    "自定義一個function\n",
    "1.可以簡化主程式\n",
    "2.使邏輯思考更簡單\n",
    "3.可被重複呼叫、執行\n",
    "\n",
    "def 名稱(參數):\n",
    "1.參數只可以使用在這個function的變數，即該變數只能使用在此function的程式範圍\n",
    "2.傳出的值可以設定為None(首字要大寫)，使用法：is None\n",
    "舉例：\n",
    "產生器(原料)>>>肉鬆產生器(豬肉盤子,調味料盤子)---->傳出物：肉鬆，有傳出東西就要接收，沒有傳出東西就可以不接收\n",
    "    豬肉盤子(從豬肉盤子取得豬肉)\n",
    "    調味料盤子(從調味料盤子取得調味料)\n",
    "    return(傳出值就要使用，不用傳出值就可以不用) 肉鬆\n",
    "\n",
    "使用肉鬆產生器\n",
    "肉鬆產生器(豬肉,鹽巴)--->豬肉傳到豬肉盤子，鹽巴傳到調味料盤子--->有傳出肉鬆，就要接收\n",
    "^^^^^^^^^^^^^^^^^^^只寫了一行，實際上執行了好幾行\n",
    "使用等於\"=\"建立一個肉鬆罐子\n",
    "肉鬆罐子 = 肉鬆\n",
    "\n",
    "呼叫function的方式:\n",
    "名稱(引數)\n",
    "1.引數是一個真正的值\n",
    "'''"
   ]
  },
  {
   "cell_type": "code",
   "execution_count": 4,
   "metadata": {},
   "outputs": [],
   "source": [
    "#給一個名字，傳出hello你的名字\n",
    "def sayHello(name) -> str: #增加 \"-> str\" 使可讀性增加\n",
    "    return f\"{name}您好\"\n"
   ]
  },
  {
   "cell_type": "code",
   "execution_count": 7,
   "metadata": {},
   "outputs": [
    {
     "name": "stdout",
     "output_type": "stream",
     "text": [
      "Ben您好\n"
     ]
    }
   ],
   "source": [
    "#範例：greeting = sayHello(\"Ben\")\n",
    "greeting = sayHello(input(\"請輸入您的名字\")) #變化後\n",
    "print(greeting)"
   ]
  },
  {
   "cell_type": "code",
   "execution_count": 13,
   "metadata": {},
   "outputs": [
    {
     "name": "stdout",
     "output_type": "stream",
     "text": [
      "未使用Decimal: 5.820009033\n",
      "使用Decimal: 5.820009032999999831758941582\n",
      "未使用Decimal: 5.82001\n",
      "使用Decimal: 5.82001\n"
     ]
    }
   ],
   "source": [
    "### decimal工具箱內的Decimal：解決小數點運算時出現的些微誤差\n",
    "## 只需要某個工具箱裡面的某項工具：from...import...\n",
    "\n",
    "from decimal import Decimal\n",
    "\n",
    "#比較\n",
    "test1 = 1.5783087 + 4.241700333\n",
    "test2 = Decimal(1.5783087) + Decimal(4.241700333)\n",
    "print(f'未使用Decimal: {test1}\\n使用Decimal: {test2}')\n",
    "print(f'未使用Decimal: {test1:.5f}\\n使用Decimal: {test2:.5f}')"
   ]
  },
  {
   "cell_type": "code",
   "execution_count": 18,
   "metadata": {},
   "outputs": [
    {
     "name": "stdout",
     "output_type": "stream",
     "text": [
      "功能測試：使用Decimal function: 5.82001\n",
      "使用者輸入：使用Decimal function: 3.97777\n"
     ]
    }
   ],
   "source": [
    "##使用Decimal建立function\n",
    "\n",
    "def decimal_add(a,b) -> Decimal:\n",
    "    return Decimal(a) + Decimal(b)\n",
    "\n",
    "float_value = decimal_add('1.5783087','4.241700333')\n",
    "print(f'功能測試：使用Decimal function: {float_value:.5f}')\n",
    "\n",
    "f1 = float(input('請輸入第1項任意小數'))\n",
    "f2 = float(input('請輸入第2項任意小數'))\n",
    "float_value2 = decimal_add(f1,f2)\n",
    "print(f'使用者輸入：使用Decimal function: {float_value2:.5f}')\n"
   ]
  },
  {
   "cell_type": "code",
   "execution_count": 23,
   "metadata": {},
   "outputs": [
    {
     "name": "stdout",
     "output_type": "stream",
     "text": [
      "That is Alice\\'s cats\\n\\t\n"
     ]
    }
   ],
   "source": [
    "'''字串的處理：\n",
    "使用脫逸字元\n",
    "\\' ->單引號\n",
    "\\\" ->雙引號\n",
    "\\n ->\n",
    "'''\n",
    "#words = 'That is Alice\\'s cat.'\n",
    "#words\n",
    "\n",
    "##反斜線不是脫逸字元\n",
    "words2 = r'That is Alice\\'s cats\\n\\t' # 增加r表示row原生字\n",
    "print(words2)"
   ]
  },
  {
   "cell_type": "code",
   "execution_count": null,
   "metadata": {},
   "outputs": [
    {
     "name": "stdout",
     "output_type": "stream",
     "text": [
      "Penny\n"
     ]
    }
   ],
   "source": [
    "# str的實體有一些功能：如.cap\n",
    "name = 'Henny'\n",
    "\n",
    "# str.capitalize():第一個字變大寫\n",
    "# str.lower():全部傳出小寫：name.lower()\n",
    "\n",
    "'''\n",
    "內建的function\n",
    "type()\n",
    "\n",
    "工具箱內的function\n",
    "random.randint()\n",
    "\n",
    "實體的方法method\n",
    "實體名稱.實體方法()\n",
    "'''\n",
    "\n",
    "## 替換舊值為新值：str.replace(old, new[,count])\n",
    "\n",
    "name2 = name.replace('H','P')\n",
    "\n",
    "print(name2)"
   ]
  },
  {
   "cell_type": "code",
   "execution_count": 2,
   "metadata": {},
   "outputs": [
    {
     "name": "stdout",
     "output_type": "stream",
     "text": [
      "['2023', '03', '05']\n",
      "2023.03.05\n"
     ]
    }
   ],
   "source": [
    "##切割字串\n",
    "## split() 切割 可以傳出 list\n",
    "data_list = \"2023/03/05\".split('/')\n",
    "print(data_list)\n",
    "\n",
    "##連結字串\n",
    "## str.join(iterable)傳出新的字串\n",
    "data_list1 = '.'.join(data_list)\n",
    "print(data_list1)\n"
   ]
  },
  {
   "cell_type": "code",
   "execution_count": 5,
   "metadata": {},
   "outputs": [
    {
     "name": "stdout",
     "output_type": "stream",
     "text": [
      "True False True False True False False\n"
     ]
    }
   ],
   "source": [
    "### 用來檢查字串\n",
    "\n",
    "## str.isnumeric()會傳出True 或False \n",
    "## 是不是都是數字 str.isdigit()\n",
    "test1_1 = '1234'.isdigit() #True\n",
    "test1_2 ='123415.13'.isdigit() #False\n",
    "## 是不是字母 str.isalpha()\n",
    "test2_1 = 'hello'.isalpha() #True\n",
    "test2_2 = 'hello123'.isalpha() #False\n",
    "## 是不是是字母和數字的組合 str.isalnum\n",
    "test3 = 'aaa134'.isalnum() #True\n",
    "\n",
    "## 是否包含一個十進制字符且该字符串至少有一个字符str.isdecimal()\n",
    "test4_1 = '123145安安'.isdecimal() #False\n",
    "\n",
    "print(test1_1,test1_2,test2_1,test2_2,test3,test4_1)\n"
   ]
  }
 ],
 "metadata": {
  "kernelspec": {
   "display_name": "base",
   "language": "python",
   "name": "python3"
  },
  "language_info": {
   "codemirror_mode": {
    "name": "ipython",
    "version": 3
   },
   "file_extension": ".py",
   "mimetype": "text/x-python",
   "name": "python",
   "nbconvert_exporter": "python",
   "pygments_lexer": "ipython3",
   "version": "3.9.13"
  },
  "orig_nbformat": 4
 },
 "nbformat": 4,
 "nbformat_minor": 2
}
