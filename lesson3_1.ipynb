{
 "cells": [
  {
   "cell_type": "code",
   "execution_count": null,
   "metadata": {},
   "outputs": [],
   "source": [
    "#python-interpreter編譯器\n",
    "#Vscode操作:\n",
    "#1.中文版-設定-設定-命令選擇區- 輸入display language\n",
    "#2.立即存檔-afterDelay\n",
    "#3.延伸模組-Jupyter\n",
    "#右上角選取核心python版本"
   ]
  },
  {
   "cell_type": "code",
   "execution_count": null,
   "metadata": {},
   "outputs": [],
   "source": [
    "#int+int=int\n",
    "#int+float=float\n",
    "#str+str=str\n",
    "#int+str=錯誤"
   ]
  },
  {
   "cell_type": "code",
   "execution_count": 2,
   "metadata": {},
   "outputs": [
    {
     "name": "stdout",
     "output_type": "stream",
     "text": [
      "-13\n"
     ]
    }
   ],
   "source": [
    "#數學運算子\n",
    "#/浮點數除法\n",
    "#//整數除法\n",
    "\n",
    "#保留值要建立變數\n",
    "# \"=\" 叫做指定運算子，不會傳出資料，只是做儲存\n",
    "# m = 5，代表目前m代表了5，是可以被後面的設定而被修正\n",
    "# n = (b^2-4ac)\n",
    "# 兩個運算子同時存在時，有執行的先後順序\n",
    "a = 1\n",
    "b = 5\n",
    "c = 3\n",
    "n = (b^2-4*a*c)\n",
    "print (n)"
   ]
  },
  {
   "cell_type": "code",
   "execution_count": 5,
   "metadata": {},
   "outputs": [
    {
     "name": "stdout",
     "output_type": "stream",
     "text": [
      "3\n",
      "total=3\n",
      "我是誰\n"
     ]
    }
   ],
   "source": [
    "#print會先執行括弧的東西，字串加上數值，會無法印出\n",
    "d = 1\n",
    "e = 2\n",
    "f = '我是誰'\n",
    "total = d + e\n",
    "print(total)\n",
    "print(\"total=\" + str(total))\n",
    "print(f)"
   ]
  },
  {
   "cell_type": "code",
   "execution_count": 15,
   "metadata": {},
   "outputs": [
    {
     "name": "stdout",
     "output_type": "stream",
     "text": [
      "total=3\n",
      "1+2=3\n",
      "1+2=3\n"
     ]
    }
   ],
   "source": [
    "#字串插補：變數f中插入字串\n",
    "print(f\"total={total}\")\n",
    "\n",
    "#使用加運算子建立一個字串\n",
    "print(str(d)+\"+\"+str(e)+\"=\"+str(total))\n",
    "\n",
    "#使用字串插補建立一個字串\n",
    "print(f\"{d}+{e}={total}\")"
   ]
  },
  {
   "cell_type": "code",
   "execution_count": 19,
   "metadata": {},
   "outputs": [
    {
     "name": "stdout",
     "output_type": "stream",
     "text": [
      "PI=3.1415963\n",
      "PI=3.14\n",
      "PI=3.142\n"
     ]
    }
   ],
   "source": [
    "#字串插補\n",
    "PI = 3.1415963\n",
    "\n",
    "print (f\"PI={PI}\")\n",
    "print (f\"PI={PI:.2f}\")\n",
    "print (f\"PI={PI:.3f}\")"
   ]
  },
  {
   "cell_type": "code",
   "execution_count": 20,
   "metadata": {},
   "outputs": [
    {
     "data": {
      "text/plain": [
       "'50'"
      ]
     },
     "execution_count": 20,
     "metadata": {},
     "output_type": "execute_result"
    }
   ],
   "source": [
    "#input(\"提示文字\")，只可以有一個參數，不可有逗號之後再一個參數\n",
    "input()"
   ]
  },
  {
   "cell_type": "code",
   "execution_count": 25,
   "metadata": {},
   "outputs": [
    {
     "name": "stdout",
     "output_type": "stream",
     "text": [
      "2數相加=39\n"
     ]
    }
   ],
   "source": [
    "#s1 = input(\"請輸入一個數字\"):statement可做多件事\n",
    "\n",
    "s1 = input(\"請輸入一個數字\")\n",
    "s2 = input(\"請輸入第二個數字\")\n",
    "s3 = int(s1) + int(s2)\n",
    "print(f\"2數相加={s3}\")"
   ]
  },
  {
   "cell_type": "code",
   "execution_count": 26,
   "metadata": {},
   "outputs": [
    {
     "name": "stdout",
     "output_type": "stream",
     "text": [
      "2數相加=100\n"
     ]
    }
   ],
   "source": [
    "s1 = int(input(\"請輸入第一個數字:\"))\n",
    "s2 = int(input(\"請輸入第二個數字:\"))\n",
    "s3 = s1 + s2\n",
    "print(f\"2數相加={s3}\")"
   ]
  },
  {
   "cell_type": "code",
   "execution_count": 27,
   "metadata": {},
   "outputs": [
    {
     "name": "stdout",
     "output_type": "stream",
     "text": [
      "2數相加=20\n"
     ]
    }
   ],
   "source": [
    "#使用eval()將字串轉成純值\n",
    "s1 = eval(input(\"請輸入第一個數字:\"))\n",
    "s2 = eval(input(\"請輸入第二個數字:\"))\n",
    "s3 = s1 + s2\n",
    "print(f\"2數相加={s3}\")"
   ]
  },
  {
   "cell_type": "code",
   "execution_count": 28,
   "metadata": {},
   "outputs": [
    {
     "name": "stdout",
     "output_type": "stream",
     "text": [
      "商商:2,餘數:2\n"
     ]
    }
   ],
   "source": [
    "# 請輸入被除數(整數):45\n",
    "# 請輸入除數(整數，不可以為0):4\n",
    "# 商 11 餘數 1\n",
    "\n",
    "m = int(input(\"請輸入被除數(整數):\"))\n",
    "n = int(input(\"請輸入除數(整數，不可以為0):\"))\n",
    "\n",
    "print(f\"商商:{m//n},餘數:{m%n}\")"
   ]
  }
 ],
 "metadata": {
  "kernelspec": {
   "display_name": "Python 3",
   "language": "python",
   "name": "python3"
  },
  "language_info": {
   "codemirror_mode": {
    "name": "ipython",
    "version": 3
   },
   "file_extension": ".py",
   "mimetype": "text/x-python",
   "name": "python",
   "nbconvert_exporter": "python",
   "pygments_lexer": "ipython3",
   "version": "3.8.10"
  },
  "orig_nbformat": 4,
  "vscode": {
   "interpreter": {
    "hash": "04e29b589f5eb40cab934003b6e1c45a9fddb347990af479a3e481f119517905"
   }
  }
 },
 "nbformat": 4,
 "nbformat_minor": 2
}
