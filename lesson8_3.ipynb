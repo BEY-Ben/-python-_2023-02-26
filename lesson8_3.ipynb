{
 "cells": [
  {
   "cell_type": "code",
   "execution_count": 41,
   "metadata": {},
   "outputs": [
    {
     "data": {
      "text/plain": [
       "'c:\\\\Users\\\\Ben\\\\OneDrive\\\\文件\\\\Python Project\\\\csv_file\\\\student_scores.csv'"
      ]
     },
     "execution_count": 41,
     "metadata": {},
     "output_type": "execute_result"
    }
   ],
   "source": [
    "### .csv的檔案格式，是一個純文字檔的表格表示法\n",
    "\n",
    "### os.path\n",
    "\n",
    "import os.path\n",
    "\n",
    "directory = os.path.abspath('./csv_file')\n",
    "filename = 'student_scores.csv'\n",
    "\n",
    "# 檔案的絕對路徑\n",
    "csv_path = os.path.join(directory,filename)\n",
    "csv_path"
   ]
  },
  {
   "cell_type": "code",
   "execution_count": 42,
   "metadata": {},
   "outputs": [
    {
     "name": "stdout",
     "output_type": "stream",
     "text": [
      "<_io.TextIOWrapper name='c:\\\\Users\\\\Ben\\\\OneDrive\\\\文件\\\\Python Project\\\\csv_file\\\\student_scores.csv' mode='r' encoding='utf-8'>\n"
     ]
    }
   ],
   "source": [
    "import csv\n",
    "\n",
    "# file 實體 read 檔案\n",
    "file = open(csv_path,encoding='utf-8',newline='') # 空字串而不是空白\n",
    "print(file)\n",
    "\n",
    "file.close() #最後一定要關閉"
   ]
  },
  {
   "cell_type": "code",
   "execution_count": 43,
   "metadata": {},
   "outputs": [
    {
     "name": "stdout",
     "output_type": "stream",
     "text": [
      "['78', '68', '95', '74', '92']\n",
      "['73', '89', '90', '88', '68']\n",
      "['88', '45', '66', '91', '91']\n"
     ]
    }
   ],
   "source": [
    "import csv\n",
    "\n",
    "file = open(csv_path,encoding='utf-8',newline='')\n",
    "csv_reader = csv.reader(file)\n",
    "next(csv_reader)\n",
    "for item in csv_reader:\n",
    "    print(item)\n",
    "file.close()"
   ]
  },
  {
   "cell_type": "code",
   "execution_count": 44,
   "metadata": {},
   "outputs": [
    {
     "name": "stdout",
     "output_type": "stream",
     "text": [
      "{'國文': '78', '英文': '68', '數學': '95', '歷史': '74', '地理': '92'}\n",
      "{'國文': '73', '英文': '89', '數學': '90', '歷史': '88', '地理': '68'}\n",
      "{'國文': '88', '英文': '45', '數學': '66', '歷史': '91', '地理': '91'}\n"
     ]
    }
   ],
   "source": [
    "import csv\n",
    "csv_path = os.path.join(directory,filename)\n",
    "file = open(csv_path,encoding='utf-8',newline='')\n",
    "csv_reader = csv.DictReader(file)\n",
    "for item in csv_reader:\n",
    "    print(item)\n",
    "\n",
    "file.close()"
   ]
  },
  {
   "cell_type": "code",
   "execution_count": null,
   "metadata": {},
   "outputs": [],
   "source": [
    "### 老師沒有全部講完\n",
    "### 請自行到老師的講義查看並練習"
   ]
  }
 ],
 "metadata": {
  "kernelspec": {
   "display_name": "Python 3",
   "language": "python",
   "name": "python3"
  },
  "language_info": {
   "codemirror_mode": {
    "name": "ipython",
    "version": 3
   },
   "file_extension": ".py",
   "mimetype": "text/x-python",
   "name": "python",
   "nbconvert_exporter": "python",
   "pygments_lexer": "ipython3",
   "version": "3.9.13"
  },
  "orig_nbformat": 4
 },
 "nbformat": 4,
 "nbformat_minor": 2
}
