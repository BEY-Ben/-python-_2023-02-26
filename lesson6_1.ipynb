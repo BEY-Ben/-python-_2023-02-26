{
 "cells": [
  {
   "cell_type": "code",
   "execution_count": 8,
   "metadata": {},
   "outputs": [
    {
     "name": "stdout",
     "output_type": "stream",
     "text": [
      "恭喜!已經存夠了,共存了100000元\n"
     ]
    }
   ],
   "source": [
    "###沒有限定次數的迴圈\n",
    "'''\n",
    "while + bool\n",
    "比較運算子、邏輯運算子可以產生布林值\n",
    "while(bool):True往下執行，False則跳過\n",
    "while True 則會成為無限迴圈\n",
    "\n",
    "步驟\n",
    "1.建立一個可以比較的變數\n",
    "2.比較這個變數 while(bool)\n",
    "3.改變變數的值\n",
    "'''\n",
    "\n",
    "### 小明想要買一台機車，每輛機車30000元，他將每月存的錢輸入，當存款足夠時，顯示訊息告知\n",
    "\n",
    "deposit = 0\n",
    "\n",
    "while(deposit < 30000):\n",
    "    input_value = int(input(\"請輸入本月份的存入款項\"))\n",
    "    deposit += input_value\n",
    "\n",
    "print(f\"恭喜!已經存夠了,共存了{deposit}元\")\n"
   ]
  },
  {
   "cell_type": "code",
   "execution_count": 9,
   "metadata": {},
   "outputs": [
    {
     "name": "stdout",
     "output_type": "stream",
     "text": [
      "恭喜!已經存夠了,存了5月份共存了36710元\n"
     ]
    }
   ],
   "source": [
    "#初始設定:設定變數存款deposit為0、設定存款月份month_count為0\n",
    "deposit = 0\n",
    "month_count = 0\n",
    "\n",
    "#while迴圈 當存款小於30000時啟動\n",
    "while(deposit < 30000):\n",
    "    month_count += 1 #修改變數，存款月份累計次數加1\n",
    "    input_value = int(input(f\"請輸入第{month_count}月份的存款\")) #用戶輸入存款\n",
    "    deposit += input_value #修改參數修改參數，存款增加用戶的輸入數據\n",
    "\n",
    "#跳出迴圈 當存款大於30000時跳過while迴圈繼續執行下方程式碼\n",
    "print(f\"恭喜!已經存夠了,存了{month_count}月份共存了{deposit}元\")"
   ]
  },
  {
   "cell_type": "code",
   "execution_count": 17,
   "metadata": {},
   "outputs": [
    {
     "name": "stdout",
     "output_type": "stream",
     "text": [
      "全班總成績為:300,平均成績為:100.0\n"
     ]
    }
   ],
   "source": [
    "'''\n",
    "小美是個教師，請以while迴圈方式設計一個輸入成績的程式，\n",
    "若輸入負數則表示輸入結束，輸入結束後顯示板上總成績及平均成績\n",
    "'''\n",
    "\n",
    "score = int(input(\"請輸入學生的成績:\"))\n",
    "sum = 0\n",
    "score_count = 0\n",
    "\n",
    "while(score > 0):\n",
    "    sum += score\n",
    "    score_count += 1\n",
    "    score = int(input(\"請輸入學生的成績:\"))\n",
    "\n",
    "average = round(sum/(score_count),ndigits=2)\n",
    "\n",
    "print(f\"全班總成績為:{sum},平均成績為:{average}\")"
   ]
  },
  {
   "cell_type": "code",
   "execution_count": 27,
   "metadata": {},
   "outputs": [
    {
     "name": "stdout",
     "output_type": "stream",
     "text": [
      "輸入的成績有誤，請重新輸入\n",
      "全班總成績為:300,平均成績為:100.0\n"
     ]
    }
   ],
   "source": [
    "'''\n",
    "跳出迴圈的方式\n",
    "關鍵字:break\n",
    "可以跳出迴圈\n",
    "'''\n",
    "sum = 0\n",
    "score_count = 0\n",
    "\n",
    "while True: #一開始就True 一定會進入迴圈\n",
    "    score = int(input(f\"請輸入第{score_count+1}位學生的成績,輸入-1結束輸入\"))\n",
    "    if score < 0:\n",
    "        break #一旦成功執行 下方迴圈內的程式碼就會跳過 更加靈活\n",
    "    elif score > 100:\n",
    "        print(\"輸入的成績有誤，請重新輸入\")\n",
    "    else:\n",
    "        sum += score\n",
    "        score_count += 1\n",
    "\n",
    "average = round(sum/(score_count),ndigits=2)\n",
    "\n",
    "print(f\"全班總成績為:{sum},平均成績為:{average}\")"
   ]
  },
  {
   "cell_type": "code",
   "execution_count": 30,
   "metadata": {},
   "outputs": [
    {
     "name": "stdout",
     "output_type": "stream",
     "text": [
      "程式結束\n"
     ]
    }
   ],
   "source": [
    "### break 是直接跳出回圈\n",
    "### continue會回到起初重新判斷，再進入下一個迴圈\n",
    "\n",
    "'''\n",
    "請輸入整數，輸入[q]離開:\n",
    "奇數輸出平方\n",
    "偶數不做任何動作\n",
    "'''\n",
    "\n",
    "while(True):\n",
    "    value = input(\"請輸入整數,輸入[q]或[Q]離開:\")\n",
    "    if value == 'q' or 'Q':\n",
    "        break\n",
    "    elif int(value) % 2 == 0:\n",
    "        continue\n",
    "    else:\n",
    "        print(f\"{value}的平方值是{int(value) ** 2}\")\n",
    "print(\"程式結束\")\n"
   ]
  }
 ],
 "metadata": {
  "kernelspec": {
   "display_name": "Python 3",
   "language": "python",
   "name": "python3"
  },
  "language_info": {
   "codemirror_mode": {
    "name": "ipython",
    "version": 3
   },
   "file_extension": ".py",
   "mimetype": "text/x-python",
   "name": "python",
   "nbconvert_exporter": "python",
   "pygments_lexer": "ipython3",
   "version": "3.8.10"
  },
  "orig_nbformat": 4
 },
 "nbformat": 4,
 "nbformat_minor": 2
}
