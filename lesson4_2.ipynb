{
 "cells": [
  {
   "cell_type": "code",
   "execution_count": null,
   "metadata": {},
   "outputs": [],
   "source": [
    "### 讓程式有智慧:早上做早上的部分，晚上做晚上的部分\n",
    "## 流程控制:\n",
    "#   1.判斷 if\n",
    "#   2.迴圈 for in 以及 while\n",
    "\n",
    "# if 單項選擇、雙項選擇、多項選擇\n",
    "## 單項選擇:\n",
    "# if 後面加上bool布林值，下方縮排後是true的程式區塊\n",
    "# 若下一段非if 的程序區塊 就要「對齊」if\n",
    "# if bool:\n",
    "#  縮排  True的程序區塊\n",
    "\n",
    "## 雙項選擇\n",
    "## if bool:\n",
    "#  縮排  True的程序區塊\n",
    "## else:\n",
    "#  縮排  False的程序區塊"
   ]
  },
  {
   "cell_type": "code",
   "execution_count": null,
   "metadata": {},
   "outputs": [],
   "source": [
    "### 關係運算子\n",
    "## 比較運算子:\n",
    "# <小於小於\n",
    "# <=小於等於\n",
    "# >大於\n",
    "# >=大於等於\n",
    "# ==兩邊是否等於\n",
    "# !=兩邊是否不等於\n",
    "# 二元運算子:前後都要有運算元\n",
    "# 運算元 < 運算元\n",
    "# 運算子才會傳出布林值bool\n",
    "\n",
    "## 布林值第一個字要大寫"
   ]
  },
  {
   "cell_type": "code",
   "execution_count": 6,
   "metadata": {},
   "outputs": [
    {
     "name": "stdout",
     "output_type": "stream",
     "text": [
      "294\n"
     ]
    }
   ],
   "source": [
    "# 學生總分為300分\n",
    "# 有些學生可以加分5%\n",
    "\n",
    "scores = int(input(\"請輸入學生分數(最高300分)\"))\n",
    "is_add = input(\"學生是否符合加分條件?(y,n)\")\n",
    "\n",
    "if (is_add == \"y\"): #單項選擇\n",
    "    scores *= 1.05\n",
    "    if scores > 300:\n",
    "        scores = 300\n",
    "\n",
    "\n",
    "print(round(scores))"
   ]
  },
  {
   "cell_type": "code",
   "execution_count": 7,
   "metadata": {},
   "outputs": [
    {
     "name": "stdout",
     "output_type": "stream",
     "text": [
      "不及格\n"
     ]
    }
   ],
   "source": [
    "# 雙項選擇\n",
    "chinese = int(input(\"請輸入學生國文分數\"))\n",
    "\n",
    "if chinese >= 60:\n",
    "    print(\"及格\")\n",
    "else:\n",
    "    print(\"不及格\")"
   ]
  },
  {
   "cell_type": "code",
   "execution_count": 30,
   "metadata": {},
   "outputs": [
    {
     "name": "stdout",
     "output_type": "stream",
     "text": [
      "分數錯誤，請重新輸入\n"
     ]
    }
   ],
   "source": [
    "# 多項選擇\n",
    "chinese = int(input(\"請輸入學生國文分數\"))\n",
    "\n",
    "if chinese < 40:\n",
    "    print(\"補考\")\n",
    "else:\n",
    "    if chinese < 60:\n",
    "        print(\"不及格\")\n",
    "    else:\n",
    "        if chinese < 80:\n",
    "            print(\"普通\")\n",
    "        else:\n",
    "            if chinese < 95:\n",
    "                print(\"良好\")\n",
    "            else:\n",
    "                if chinese <= 100:\n",
    "                    print(\"優良\")\n",
    "                else:\n",
    "                    print(\"分數錯誤，請重新輸入\")"
   ]
  },
  {
   "cell_type": "code",
   "execution_count": 34,
   "metadata": {},
   "outputs": [
    {
     "name": "stdout",
     "output_type": "stream",
     "text": [
      "普通\n"
     ]
    }
   ],
   "source": [
    "# 多項選擇\n",
    "chinese = int(input(\"請輸入學生 國文 分數\"))\n",
    "math = int(input(\"請輸入學生 數學 分數\"))\n",
    "english = int(input(\"請輸入學生 英文 分數\"))\n",
    "\n",
    "average3 = (chinese + math + english)/3\n",
    "\n",
    "if average3 < 40:\n",
    "    print(\"補考\")\n",
    "else:\n",
    "    if average3 < 60:\n",
    "        print(\"不及格\")\n",
    "    else:\n",
    "        if average3 < 80:\n",
    "            print(\"普通\")\n",
    "        else:\n",
    "            if average3 < 90:\n",
    "                print(\"良好\")\n",
    "            else:\n",
    "                if average3 < 95:\n",
    "                    print(\"優良\")\n",
    "                else:\n",
    "                    if average3 <= 100:\n",
    "                        print(\"特優\")\n",
    "                    else:\n",
    "                        print(\"分數錯誤，請重新輸入\")"
   ]
  },
  {
   "cell_type": "code",
   "execution_count": null,
   "metadata": {},
   "outputs": [],
   "source": [
    "# 範例\n",
    "chinese = int(input(\"請輸入學生 國文 分數\"))\n",
    "if chinese >= 80:\n",
    "    print(\"優等\")\n",
    "else\n",
    "    pass"
   ]
  }
 ],
 "metadata": {
  "kernelspec": {
   "display_name": "Python 3",
   "language": "python",
   "name": "python3"
  },
  "language_info": {
   "codemirror_mode": {
    "name": "ipython",
    "version": 3
   },
   "file_extension": ".py",
   "mimetype": "text/x-python",
   "name": "python",
   "nbconvert_exporter": "python",
   "pygments_lexer": "ipython3",
   "version": "3.8.10"
  },
  "orig_nbformat": 4
 },
 "nbformat": 4,
 "nbformat_minor": 2
}
