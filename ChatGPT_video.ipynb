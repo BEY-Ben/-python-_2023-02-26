{
 "cells": [
  {
   "cell_type": "code",
   "execution_count": null,
   "metadata": {},
   "outputs": [],
   "source": [
    "### 以下是一個使用Python中的requests和urllib模塊下載影片的範例程式碼：\n",
    "\n",
    "import requests\n",
    "import urllib.request\n",
    "\n",
    "url = '輸入影片網址'\n",
    "\n",
    "# 使用requests模塊獲取影片的二進制數據\n",
    "response = requests.get(url)\n",
    "\n",
    "# 獲取影片名稱\n",
    "name = url.split('/')[-1]\n",
    "\n",
    "# 使用urllib模塊保存影片\n",
    "with open(name, 'wb') as f:\n",
    "    f.write(response.content)\n",
    "\n",
    "### 請將“輸入影片網址”替換為要下載的影片網址，並運行程式碼即可下載影片。\n",
    "# 請注意，此程式碼僅適用於下載沒有版權保護的公共影片。"
   ]
  },
  {
   "cell_type": "code",
   "execution_count": null,
   "metadata": {},
   "outputs": [],
   "source": [
    "### 以下是一個使用moviepy套件從影片擷取音檔的Python程式碼範例：\n",
    "\n",
    "from moviepy.video.io.VideoFileClip import VideoFileClip\n",
    "\n",
    "# 載入影片\n",
    "clip = VideoFileClip(\"my_video.mp4\")\n",
    "\n",
    "# 取得音檔並存檔\n",
    "audio = clip.audio\n",
    "audio.write_audiofile(\"my_audio.wav\")\n",
    "\n",
    "# 釋放資源\n",
    "clip.close()\n",
    "\n",
    "\n",
    "### 這個程式會開啟名為my_video.mp4的影片檔案，擷取出音檔，並以WAV格式存檔為my_audio.wav。\n",
    "# 需要注意的是，此程式需要moviepy套件的支援，需要先安裝moviepy套件才能執行。"
   ]
  },
  {
   "cell_type": "code",
   "execution_count": null,
   "metadata": {},
   "outputs": [],
   "source": [
    "### 以下是一個基本的影片格式轉換的Python程式碼，使用了FFmpeg套件：\n",
    "\n",
    "import ffmpeg\n",
    "\n",
    "# 設定原始影片檔名、目標格式、輸出檔名\n",
    "input_file = 'input.mp4'\n",
    "output_format = 'avi'\n",
    "output_file = 'output.' + output_format\n",
    "\n",
    "# 設定FFmpeg指令\n",
    "stream = ffmpeg.input(input_file)\n",
    "stream = ffmpeg.output(stream, output_file, vcodec=output_format)\n",
    "\n",
    "# 執行轉換\n",
    "ffmpeg.run(stream)\n",
    "\n",
    "\n",
    "### 此程式碼僅提供基本的轉換功能，\n",
    "# 若要進行更複雜的轉換或加入其他參數，請參考FFmpeg的官方文件或其他相關資源。"
   ]
  }
 ],
 "metadata": {
  "kernelspec": {
   "display_name": "Python 3",
   "language": "python",
   "name": "python3"
  },
  "language_info": {
   "name": "python",
   "version": "3.11.2"
  },
  "orig_nbformat": 4
 },
 "nbformat": 4,
 "nbformat_minor": 2
}
