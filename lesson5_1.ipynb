{
 "cells": [
  {
   "cell_type": "code",
   "execution_count": null,
   "metadata": {},
   "outputs": [],
   "source": [
    "# 巢狀 範例\n",
    "chinese = int(input(\"請輸入學生 國文 分數\"))\n",
    "if chinese >= 80:\n",
    "    print(\"優等\")\n",
    "else:\n",
    "    if chinese >= 60:\n",
    "        print(\"一般\")\n",
    "    else:\n",
    "        print(\"不及格\")"
   ]
  },
  {
   "cell_type": "code",
   "execution_count": null,
   "metadata": {},
   "outputs": [],
   "source": [
    "# 上面改寫成 elif 的 多項選擇 範例\n",
    "chinese = int(input(\"請輸入學生 國文 分數\"))\n",
    "if chinese >= 80:\n",
    "    print(\"優等\")\n",
    "elif chinese >= 60:\n",
    "    print(\"一般\")\n",
    "else:\n",
    "    print(\"不及格\")\n",
    "    "
   ]
  },
  {
   "cell_type": "code",
   "execution_count": 6,
   "metadata": {},
   "outputs": [
    {
     "name": "stdout",
     "output_type": "stream",
     "text": [
      "重修\n"
     ]
    }
   ],
   "source": [
    "#自行嘗試改寫下方語法\n",
    "# 多項選擇\n",
    "chinese = int(input(\"請輸入學生國文分數\"))\n",
    "\n",
    "if chinese < 40:\n",
    "    print(\"補考\")\n",
    "else:\n",
    "    if chinese < 60:\n",
    "        print(\"不及格\")\n",
    "    else:\n",
    "        if chinese < 80:\n",
    "            print(\"普通\")\n",
    "        else:\n",
    "            if chinese < 95:\n",
    "                print(\"良好\")\n",
    "            else:\n",
    "                if chinese <= 100:\n",
    "                    print(\"優良\")\n",
    "                else:\n",
    "                    print(\"分數錯誤，請重新輸入\")\n",
    "\n",
    "# 修改後的語法\n",
    "\n",
    "chinese = int(input(\"請輸入學生國文分數\"))\n",
    "\n",
    "if chinese>100:\n",
    "    print(\"分數錯誤 請重新輸入\")\n",
    "elif chinese >= 95:\n",
    "    print(\"優良\")\n",
    "elif chinese >= 80:\n",
    "    print(\"良好\")\n",
    "elif chinese >=60:\n",
    "    print(\"合格\")\n",
    "elif chinese >=40:\n",
    "    print(\"不合格\")\n",
    "else:\n",
    "    print(\"重修\")"
   ]
  },
  {
   "cell_type": "code",
   "execution_count": 3,
   "metadata": {},
   "outputs": [
    {
     "name": "stdout",
     "output_type": "stream",
     "text": [
      "實付金額是:68000.0\n"
     ]
    }
   ],
   "source": [
    "# 題目:10萬元打8折\n",
    "# 5萬元打85折\n",
    "# 3萬元打9折\n",
    "# 1萬元打95折\n",
    "\n",
    "money = int (input (\"請輸入顧客購買金額\"))\n",
    "\n",
    "if money >= 100000:\n",
    "    payMoney = money * 0.8\n",
    "elif money >= 50000:\n",
    "    payMoney = money * 0.85\n",
    "elif money >= 30000:\n",
    "    payMoney = money * 0.9\n",
    "elif money >= 10000:\n",
    "    payMoney = money * 0.95\n",
    "else:\n",
    "    payMoney = money * 1\n",
    "\n",
    "print(f\"實付金額是:{payMoney}\")\n"
   ]
  },
  {
   "cell_type": "code",
   "execution_count": 4,
   "metadata": {},
   "outputs": [
    {
     "name": "stdout",
     "output_type": "stream",
     "text": [
      "實付金額是:80000\n"
     ]
    }
   ],
   "source": [
    "# 老師範例\n",
    "\n",
    "money = int (input (\"請輸入顧客購買金額\"))\n",
    "\n",
    "if money < 10000:\n",
    "    payMoney = money\n",
    "elif money < 30000:\n",
    "    payMoney = money * 0.95\n",
    "elif money < 50000:\n",
    "    payMoney = money * 0.9\n",
    "elif money < 100000:\n",
    "    payMoney = money * 0.85\n",
    "else:\n",
    "    payMoney = money * 0.8\n",
    "\n",
    "print(f\"實付金額是:{round(payMoney)}\")"
   ]
  },
  {
   "cell_type": "code",
   "execution_count": 9,
   "metadata": {},
   "outputs": [
    {
     "name": "stdout",
     "output_type": "stream",
     "text": [
      "獎金為:0\n"
     ]
    }
   ],
   "source": [
    "# 一個連續數值區段的判斷\n",
    "# 2個不同性質的判斷\n",
    "# 舉例 \n",
    "# 若 數學100分 且 國文100分 則 獎金1000元\n",
    "# 若 數學和國文其中一科100分 則 獎金500元\n",
    "# 若 數學和國文都沒有100分 則 獎金0元\n",
    "\n",
    "chinese = int (input(\"請輸入國文分數\"))\n",
    "math = int (input(\"請輸入數學分數\"))\n",
    "\n",
    "if chinese == 100:\n",
    "    if math == 100:\n",
    "        bonus = 1000\n",
    "    else:\n",
    "        bonus = 500 \n",
    "else:\n",
    "    if math == 100:\n",
    "        bonus = 500\n",
    "    else:\n",
    "        bonus = 0\n",
    "\n",
    "print (f\"獎金為:{bonus}\")"
   ]
  },
  {
   "cell_type": "code",
   "execution_count": 13,
   "metadata": {},
   "outputs": [
    {
     "name": "stdout",
     "output_type": "stream",
     "text": [
      "獎金為:0\n"
     ]
    }
   ],
   "source": [
    "# 邏輯運算子\n",
    "\n",
    "# 2元運算子\n",
    "# and\n",
    "# 左右兩個條件若都為真 則為真 否則為假\n",
    "# 兩個bool值換一個bool，嚴格得到True\n",
    "# True + True = True\n",
    "# True + False = False\n",
    " \n",
    "# or\n",
    "# 左右兩個條件只要一個為真 則為真 否則為假\n",
    "# True + False = True\n",
    "# False + True = True\n",
    "\n",
    "# 1元運算子\n",
    "# not\n",
    "# 條件若為真 則改為假，若為假 則改為真\n",
    "# not + pool值: not True = False; not False\n",
    "\n",
    "chinese = int (input(\"請輸入國文分數\"))\n",
    "math = int (input(\"請輸入數學分數\"))\n",
    "\n",
    "if chinese == 100 and math == 100:\n",
    "    bonus = 1000\n",
    "elif chinese == 100 or math == 100:\n",
    "    bonus = 500\n",
    "else:\n",
    "    bonus = 0\n",
    "\n",
    "print (f\"獎金為:{bonus}\")"
   ]
  },
  {
   "cell_type": "code",
   "execution_count": 21,
   "metadata": {},
   "outputs": [
    {
     "name": "stdout",
     "output_type": "stream",
     "text": [
      "BMI為:35.16\n",
      "BMI為:35.156\n",
      "肥胖\n",
      "已有健康上的危險 必要時請尋求醫療協助\n"
     ]
    }
   ],
   "source": [
    "### 題目:BMI計算\n",
    "#小於18.5太輕\n",
    "#介於18.5~25正常\n",
    "#介於25~30過重\n",
    "#大於30肥胖\n",
    "\n",
    "height = eval (input(\"請輸入身高 單位為(公分)\"))\n",
    "weight = int (input(\"請輸入體重 單位為(公斤)\"))\n",
    "BMI = weight/(height/100)**2\n",
    " \n",
    "print(f\"BMI為:{round(BMI,2)}\") # 四捨五入到第二位 以逗號分隔\n",
    "print(f\"BMI為:{round(BMI,ndigits=3)}\") # 四捨五入到第三位 以語法分隔\n",
    "\n",
    "if BMI < 18.5:\n",
    "    print(\"過輕\")\n",
    "    print(\"請留意身體機能運作狀況\")\n",
    "elif BMI <=25:\n",
    "    print(\"正常\")\n",
    "    print(\"請繼續保持\")\n",
    "elif BMI <=30:\n",
    "    print(\"過重\")\n",
    "    print(\"建議透過運動和飲食 進一步控制體重\")\n",
    "else:\n",
    "    print(\"肥胖\")\n",
    "    print(\"已有健康上的危險 必要時請尋求醫療協助\")"
   ]
  },
  {
   "cell_type": "code",
   "execution_count": 23,
   "metadata": {},
   "outputs": [
    {
     "name": "stdout",
     "output_type": "stream",
     "text": [
      "BMI為:27.68 您的體重:過重\n"
     ]
    }
   ],
   "source": [
    "### 同學的範例\n",
    "\n",
    "height = eval (input(\"請輸入身高 單位為(公分)\"))\n",
    "weight = int (input(\"請輸入體重 單位為(公斤)\"))\n",
    "BMI = weight/(height/100)**2\n",
    " \n",
    "if BMI < 18.5:\n",
    "    result = \"太輕\"\n",
    "elif BMI <=25:\n",
    "    result = \"正常\"\n",
    "elif BMI <=30:\n",
    "    result = \"過重\"\n",
    "else:\n",
    "   result = \"肥胖\"\n",
    "\n",
    "print(f\"您的BMI為:{round(BMI,2)}\",f\"您的體重:{result}\")"
   ]
  },
  {
   "cell_type": "code",
   "execution_count": null,
   "metadata": {},
   "outputs": [],
   "source": [
    "### 同學的範例\n",
    "\n",
    "height = eval (input(\"請輸入身高 單位為(公分)\"))\n",
    "weight = int (input(\"請輸入體重 單位為(公斤)\"))\n",
    "BMI = weight/(height/100)**2\n",
    "\n",
    "#BMI 判斷區\n",
    "if BMI < 18.5:\n",
    "    result = \"太輕\"\n",
    "elif BMI <=25:\n",
    "    result = \"正常\"\n",
    "elif BMI <=30:\n",
    "    result = \"過重\"\n",
    "else:\n",
    "   result = \"肥胖\"\n",
    "\n",
    "#回應 判斷區\n",
    "\n",
    "\n",
    "print(f\"您的BMI為:{round(BMI,2)}\",f\"您的體重:{result}\")"
   ]
  }
 ],
 "metadata": {
  "kernelspec": {
   "display_name": "Python 3",
   "language": "python",
   "name": "python3"
  },
  "language_info": {
   "codemirror_mode": {
    "name": "ipython",
    "version": 3
   },
   "file_extension": ".py",
   "mimetype": "text/x-python",
   "name": "python",
   "nbconvert_exporter": "python",
   "pygments_lexer": "ipython3",
   "version": "3.8.10"
  },
  "orig_nbformat": 4
 },
 "nbformat": 4,
 "nbformat_minor": 2
}
