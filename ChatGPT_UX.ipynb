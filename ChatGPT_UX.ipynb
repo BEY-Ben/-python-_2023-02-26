{
 "cells": [
  {
   "cell_type": "code",
   "execution_count": null,
   "metadata": {},
   "outputs": [],
   "source": [
    "### ChatGPT以swift為架構設計的UI程式碼\n",
    "class ViewController: UIViewController, UITableViewDataSource, UITableViewDelegate {\n",
    "    \n",
    "    let tableView = UITableView()\n",
    "\n",
    "    override func viewDidLoad() {\n",
    "        super.viewDidLoad()\n",
    "\n",
    "        // 設置表格視圖的 frame\n",
    "        tableView.frame = view.bounds\n",
    "        \n",
    "        // 設置表格視圖的數據源和代理\n",
    "        tableView.dataSource = self\n",
    "        tableView.delegate = self\n",
    "        \n",
    "        // 將表格視圖添加到畫面上\n",
    "        view.addSubview(tableView)\n",
    "    }\n",
    "\n",
    "    // 實現 UITableViewDataSource 協議的方法\n",
    "    func tableView(_ tableView: UITableView, numberOfRowsInSection section: Int) -> Int {\n",
    "        return 10\n",
    "    }\n",
    "    \n",
    "    func tableView(_ tableView: UITableView, cellForRowAt indexPath: IndexPath) -> UITableViewCell {\n",
    "        let cell = UITableViewCell(style: .default, reuseIdentifier: \"Cell\")\n",
    "        cell.textLabel?.text = \"Row \\(indexPath.row + 1)\"\n",
    "        return cell\n",
    "    }\n",
    "    \n",
    "    // 實現 UITableViewDelegate 協議的方法\n",
    "    func tableView(_ tableView: UITableView, didSelectRowAt indexPath: IndexPath) {\n",
    "        print(\"Selected Row \\(indexPath.row + 1)\")\n",
    "    }\n",
    "\n",
    "}\n"
   ]
  },
  {
   "cell_type": "code",
   "execution_count": null,
   "metadata": {},
   "outputs": [],
   "source": [
    "### UI/UX 的程式碼範例會依照不同的平台和程式語言而有所差異，以下是幾個常見的範例：\n",
    "\n",
    "## 在 HTML中實現一個簡單的按鈕 UI：\n",
    "\n",
    "<button id=\"myButton\">Click Me</button>\n"
   ]
  },
  {
   "cell_type": "code",
   "execution_count": null,
   "metadata": {},
   "outputs": [],
   "source": [
    "### 在 CSS中實現一個簡單的按鈕 UI：\n",
    " \n",
    "myButton {\n",
    "  background-color: blue;\n",
    "  color: white;\n",
    "  font-size: 16px;\n",
    "  border: none;\n",
    "  padding: 10px 20px;\n",
    "  border-radius: 5px;\n",
    "}\n"
   ]
  },
  {
   "cell_type": "code",
   "execution_count": null,
   "metadata": {},
   "outputs": [],
   "source": [
    "### 在 JavaScript 中實現一個簡單的按鈕 UI：\n",
    "\n",
    "const myButton = document.getElementById('myButton');\n",
    "myButton.addEventListener('click', function() {\n",
    "  alert('Hello, World!');\n",
    "});\n"
   ]
  },
  {
   "cell_type": "code",
   "execution_count": null,
   "metadata": {},
   "outputs": [],
   "source": [
    "###以下是一個簡單的使用Python和Tkinter GUI框架創建的股票查詢應用程序示例：\n",
    "\n",
    "# 這個應用程序界面包括一個文本輸入框和一個查詢按鈕，\n",
    "# 用戶可以在輸入框中輸入股票代碼，按下按鈕後會顯示股票的現價和成交量。\n",
    "# 此示例僅顯示了最基本的UI/UX元素，您可以根據需要自行添加其他元素和功能。\n",
    "\n",
    "import tkinter as tk\n",
    "from yahoo_fin import stock_info as si\n",
    "\n",
    "# 創建主窗口\n",
    "root = tk.Tk()\n",
    "root.title(\"股票查詢\")\n",
    "\n",
    "# 創建標籤框架\n",
    "label_frame = tk.LabelFrame(root, text=\" 股票詳情 \")\n",
    "label_frame.pack(fill=\"both\", expand=\"yes\", padx=20, pady=10)\n",
    "\n",
    "# 創建標籤和標籤內容\n",
    "ticker_label = tk.Label(label_frame, text=\"股票代碼\")\n",
    "ticker_label.grid(row=0, column=0, padx=5, pady=5)\n",
    "ticker_entry = tk.Entry(label_frame)\n",
    "ticker_entry.grid(row=0, column=1, padx=5, pady=5)\n",
    "\n",
    "price_label = tk.Label(label_frame, text=\"現價\")\n",
    "price_label.grid(row=1, column=0, padx=5, pady=5)\n",
    "price_value = tk.Label(label_frame, text=\"\")\n",
    "price_value.grid(row=1, column=1, padx=5, pady=5)\n",
    "\n",
    "vol_label = tk.Label(label_frame, text=\"成交量\")\n",
    "vol_label.grid(row=2, column=0, padx=5, pady=5)\n",
    "vol_value = tk.Label(label_frame, text=\"\")\n",
    "vol_value.grid(row=2, column=1, padx=5, pady=5)\n",
    "\n",
    "# 創建查詢函數\n",
    "def get_stock_info():\n",
    "    ticker = ticker_entry.get()\n",
    "    if ticker:\n",
    "        price = si.get_live_price(ticker)\n",
    "        volume = si.get_volume(ticker)\n",
    "        price_value.config(text=price)\n",
    "        vol_value.config(text=volume)\n",
    "\n",
    "# 創建查詢按鈕\n",
    "query_button = tk.Button(root, text=\"查詢\", command=get_stock_info)\n",
    "query_button.pack(pady=10)\n",
    "\n",
    "# 啟動應用程序\n",
    "root.mainloop()\n"
   ]
  }
 ],
 "metadata": {
  "kernelspec": {
   "display_name": "Python 3",
   "language": "python",
   "name": "python3"
  },
  "language_info": {
   "name": "python",
   "version": "3.8.10"
  },
  "orig_nbformat": 4,
  "vscode": {
   "interpreter": {
    "hash": "04e29b589f5eb40cab934003b6e1c45a9fddb347990af479a3e481f119517905"
   }
  }
 },
 "nbformat": 4,
 "nbformat_minor": 2
}
