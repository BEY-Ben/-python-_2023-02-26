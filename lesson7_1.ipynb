{
 "cells": [
  {
   "cell_type": "code",
   "execution_count": 18,
   "metadata": {},
   "outputs": [
    {
     "name": "stdout",
     "output_type": "stream",
     "text": [
      "(10, 25.3)\n",
      "(17.5, 89.3)\n"
     ]
    }
   ],
   "source": [
    "'''\n",
    "一、前情提要:\n",
    "一般變數:儲存資料\n",
    "流程控制:智慧\n",
    "function:程式結構清楚\n",
    "\n",
    "二、今日重點:\n",
    "(一)資料結構:\n",
    "tuple:\n",
    "list\n",
    "Dictionary (dict)\n",
    "Set集合\n",
    "\n",
    "(二)資料結構的用途:\n",
    "若一個班級50個學生，每個學生5個分數，若一般變數來儲存資料，需要250個變數\n",
    "所以將這些變數組合在一起，形成一個資料結構。\n",
    "\n",
    "\n",
    "(三)臨時使用的資料結構:\n",
    "表示一個座標點\n",
    "x1=10，y1=25.3\n",
    "x2=17.5，y2=89.3\n",
    "使用符號來建立tuple\n",
    "(xxx,xxx,xxxxx,xxxxx)\n",
    "\n",
    "Ans:\n",
    "#tuple,2個值暫時組合在一起\n",
    "point1 = (10, 25.3)\n",
    "point2 = (17.5, 89.3)\n",
    "\n",
    "print(point1)\n",
    "print(point2)\n",
    "'''\n",
    "\n",
    "#tuple,2個值暫時組合在一起\n",
    "point1 = (10, 25.3)\n",
    "point2 = (17.5, 89.3)\n",
    "\n",
    "print(point1)\n",
    "print(point2)"
   ]
  },
  {
   "cell_type": "code",
   "execution_count": 19,
   "metadata": {},
   "outputs": [
    {
     "name": "stdout",
     "output_type": "stream",
     "text": [
      "10\n",
      "25.3\n"
     ]
    }
   ],
   "source": [
    "#def get_point() -> None: #這個不會傳出任何東西\n",
    "\n",
    "def get_point() -> tuple: #若未使用tuple，只能傳出一個值，使用tuple就可以傳出多個值\n",
    "    return (10, 25.3)\n",
    "\n",
    "# 當呼叫該function 若寫None則不會傳出任何值\n",
    "\n",
    "get_point()\n",
    "\n",
    "#若要操作上述的兩個值，可以使用「拆解法」放進變數裡\n",
    "#使用拆解法，建立2個變數\n",
    "x,y = get_point()\n",
    "\n",
    "print(x)\n",
    "print(y)"
   ]
  },
  {
   "cell_type": "code",
   "execution_count": 20,
   "metadata": {},
   "outputs": [
    {
     "data": {
      "text/plain": [
       "(57, 98, 65)"
      ]
     },
     "execution_count": 20,
     "metadata": {},
     "output_type": "execute_result"
    }
   ],
   "source": [
    "chinese = 57\n",
    "english = 98\n",
    "math = 65\n",
    "\n",
    "#沒有逗號就不是tuple\n",
    "#tuple可以省略括號\n",
    "\n",
    "chinese, english, math"
   ]
  },
  {
   "cell_type": "code",
   "execution_count": 22,
   "metadata": {},
   "outputs": [
    {
     "data": {
      "text/plain": [
       "([], [])"
      ]
     },
     "execution_count": 22,
     "metadata": {},
     "output_type": "execute_result"
    }
   ],
   "source": [
    "#資料結構list的建立\n",
    "#使用符號[]中括號來建立list\n",
    "\n",
    "list1 = [] #空的list，可以直接用中括號建立\n",
    "list2 = list()\n",
    "\n",
    "list1, list2"
   ]
  },
  {
   "cell_type": "code",
   "execution_count": 2,
   "metadata": {},
   "outputs": [
    {
     "data": {
      "text/plain": [
       "(86, 71, 75, 90)"
      ]
     },
     "execution_count": 2,
     "metadata": {},
     "output_type": "execute_result"
    }
   ],
   "source": [
    "'''\n",
    "使用list()來建立list\n",
    "控制list需要透過scores\n",
    "一旦產生list 會產生索引\n",
    "list的實體:[86,75,92,71,90] # 該list有5個元素，編號為0~4\n",
    "若要取出內容的值，要使用scores\n",
    "\n",
    "scores = [86,75,92,71,90]\n",
    "scores[0] >>> 傳出86\n",
    "'''\n",
    "\n",
    "scores = [86,75,92,71,90] #直接用中括號建立\n",
    "scores[0],scores[3],scores[1],scores[4]\n",
    "\n",
    "## scores[6] #超出範圍會錯誤"
   ]
  },
  {
   "cell_type": "code",
   "execution_count": null,
   "metadata": {},
   "outputs": [
    {
     "name": "stdout",
     "output_type": "stream",
     "text": [
      "a\n",
      "b\n",
      "c\n",
      "d\n",
      "e\n",
      "[86, 75, 92, 71, 90]\n",
      "[86, 75, 92, 71, 90]\n",
      "[86, 75, 92, 71, 90]\n",
      "[86, 75, 92, 71, 90]\n",
      "[86, 75, 92, 71, 90]\n",
      "86\n",
      "75\n",
      "92\n",
      "71\n",
      "90\n"
     ]
    }
   ],
   "source": [
    "'''\n",
    "可使用for in 取出值\n",
    "\n",
    "for 自訂常數 in range(5)、list、Dictionary、set、str\n",
    "iterable\n",
    "\n",
    "常數就是不可改變的\n",
    "'''\n",
    "\n",
    "for letter in 'abcde':\n",
    "    print(letter)\n",
    "\n",
    "for score in scores:\n",
    "    print(scores)\n",
    "\n",
    "for i in range(5):\n",
    "    print(scores[i])"
   ]
  },
  {
   "cell_type": "code",
   "execution_count": null,
   "metadata": {},
   "outputs": [
    {
     "data": {
      "text/plain": [
       "['!', ' ', 'W', 'o', 'r']"
      ]
     },
     "execution_count": 15,
     "metadata": {},
     "output_type": "execute_result"
    }
   ],
   "source": [
    "word_list = list ('Hello! World!')\n",
    "word_list\n",
    "\n",
    "len(word_list)\n",
    "\n",
    "'''\n",
    "  H  e   l   l   o  !  W  o  r  l   d  ! \n",
    "  0  1   2   3   4  5  6  7  8  9  10  11\n",
    "-12 -11 -10 -9  -8 -7 -6 -5 -4 -3  -2 -1\n",
    "'''"
   ]
  },
  {
   "cell_type": "code",
   "execution_count": null,
   "metadata": {},
   "outputs": [
    {
     "data": {
      "text/plain": [
       "['!', ' ', 'W', 'o', 'r']"
      ]
     },
     "execution_count": 16,
     "metadata": {},
     "output_type": "execute_result"
    }
   ],
   "source": [
    "slice = \n",
    "word_list[5:10]"
   ]
  },
  {
   "cell_type": "code",
   "execution_count": null,
   "metadata": {},
   "outputs": [
    {
     "data": {
      "text/plain": [
       "['o', 'r', 'l', 'd', '!']"
      ]
     },
     "execution_count": 14,
     "metadata": {},
     "output_type": "execute_result"
    }
   ],
   "source": [
    "#取出後5個\n",
    "word_list[-5:]"
   ]
  },
  {
   "cell_type": "code",
   "execution_count": null,
   "metadata": {},
   "outputs": [],
   "source": [
    "#取出前5個\n",
    "word_list[:5]"
   ]
  },
  {
   "cell_type": "code",
   "execution_count": null,
   "metadata": {},
   "outputs": [
    {
     "data": {
      "text/plain": [
       "['H', 'e', 'l', 'l', 'o', '!', ' ', 'W', 'o', 'r', 'l', 'd', '!']"
      ]
     },
     "execution_count": 17,
     "metadata": {},
     "output_type": "execute_result"
    }
   ],
   "source": [
    "#取出全部\n",
    "word_list[:]"
   ]
  },
  {
   "cell_type": "code",
   "execution_count": 24,
   "metadata": {},
   "outputs": [
    {
     "data": {
      "text/plain": [
       "'o'"
      ]
     },
     "execution_count": 24,
     "metadata": {},
     "output_type": "execute_result"
    }
   ],
   "source": [
    "#取出第5個\n",
    "word_list[-5]"
   ]
  }
 ],
 "metadata": {
  "kernelspec": {
   "display_name": "base",
   "language": "python",
   "name": "python3"
  },
  "language_info": {
   "codemirror_mode": {
    "name": "ipython",
    "version": 3
   },
   "file_extension": ".py",
   "mimetype": "text/x-python",
   "name": "python",
   "nbconvert_exporter": "python",
   "pygments_lexer": "ipython3",
   "version": "3.10.10"
  },
  "orig_nbformat": 4
 },
 "nbformat": 4,
 "nbformat_minor": 2
}
