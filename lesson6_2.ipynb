{
 "cells": [
  {
   "cell_type": "code",
   "execution_count": 7,
   "metadata": {},
   "outputs": [
    {
     "name": "stdout",
     "output_type": "stream",
     "text": [
      "0.4070967819988285\n",
      "6\n",
      "39\n"
     ]
    }
   ],
   "source": [
    "'''\n",
    "built in library\n",
    "工具箱 \n",
    "standard library\n",
    "\n",
    "random 生成偽隨機數\n",
    "'''\n",
    "import random\n",
    "\n",
    "r0 = random.random() #我要randam工具箱裡的random，0-1之間的亂數\n",
    "print(r0)\n",
    "\n",
    "# randint，隨機輸出一個範圍內的整數\n",
    "r1 = random.randint(1,10)\n",
    "print(r1)\n",
    "\n",
    "#產生1~100的亂數\n",
    "min = 1\n",
    "max = 100\n",
    "r3 = random.randint(min,max)\n",
    "print(r3)\n"
   ]
  },
  {
   "cell_type": "code",
   "execution_count": 25,
   "metadata": {},
   "outputs": [
    {
     "name": "stdout",
     "output_type": "stream",
     "text": [
      "=======數字猜猜樂=======\n",
      "恭喜!你猜中了!你總共猜了9次，答案是:544\n"
     ]
    }
   ],
   "source": [
    "### 猜數字遊戲\n",
    "\n",
    "print(\"=======數字猜猜樂=======\")\n",
    "min = 1\n",
    "max = 1000\n",
    "real_ans = random.randint(min,max)\n",
    "times = 0\n",
    "\n",
    "while True:\n",
    "    user_ans = int(input(f\"請從{min}~{max}當中 猜一個數字\"))\n",
    "    times += 1\n",
    "    if user_ans == real_ans:\n",
    "        print(f\"恭喜!你猜中了!你總共猜了{times}次，答案是:{real_ans}\")\n",
    "        break\n",
    "    elif user_ans > real_ans:\n",
    "        max = user_ans\n",
    "    elif user_ans < real_ans:\n",
    "        min = user_ans\n",
    "    elif times == 10:\n",
    "        print(f\"真是可惜，遊戲次數已用盡，這次的答案是:{real_ans}，請再接再厲\")\n",
    "    else:\n",
    "        continue\n"
   ]
  },
  {
   "cell_type": "code",
   "execution_count": 20,
   "metadata": {},
   "outputs": [
    {
     "name": "stdout",
     "output_type": "stream",
     "text": [
      "==========猜數字遊戲===========\n",
      "再小一點\n",
      "您已經猜了1次\n",
      "賓果!您猜對了!答案是:30\n",
      "您猜了2次\n",
      "遊戲結束\n"
     ]
    }
   ],
   "source": [
    "### 猜數字\n",
    "# 老師的答案\n",
    "min = 1\n",
    "max = 100\n",
    "count = 0\n",
    "target = random.randint(min,max)\n",
    "print(\"==========猜數字遊戲===========\")\n",
    "\n",
    "while (True):\n",
    "    keyin = int(input(f\"猜數字範圍{min}~{max}:\"))\n",
    "    count += 1\n",
    "    if min <= keyin <= max:\n",
    "        if keyin == target:\n",
    "            print(f\"賓果!您猜對了!答案是:{target}\")\n",
    "            print(f\"您猜了{count}次\")\n",
    "            break\n",
    "        elif (keyin > target):\n",
    "            print(\"再小一點\")\n",
    "            max = keyin\n",
    "        elif (keyin < target):\n",
    "            print(\"再大一點\")\n",
    "            min = keyin\n",
    "        print(f\"您已經猜了{count}次\")\n",
    "\n",
    "    else:\n",
    "        print(\"請輸入提示範圍內的數字\")\n",
    "        continue\n",
    "    \n",
    "\n",
    "print(\"遊戲結束\")"
   ]
  },
  {
   "cell_type": "code",
   "execution_count": 53,
   "metadata": {},
   "outputs": [],
   "source": [
    "# 大樂透\n",
    "def lotus():\n",
    "    import random\n",
    "\n",
    "    min = 1\n",
    "    max = 49\n",
    "\n",
    "    while True:\n",
    "        num1 = random.randint(min,max)\n",
    "        num2 = random.randint(min,max)\n",
    "        num3 = random.randint(min,max)\n",
    "        num4 = random.randint(min,max)\n",
    "        num5 = random.randint(min,max)\n",
    "        num6 = random.randint(min,max)\n",
    "\n",
    "        if num1 != num2 != num3 != num4 != num5 != num6:\n",
    "            list = (num1,num2,num3,num4,num5,num6)\n",
    "            ans = sorted(list)\n",
    "            print(ans)\n",
    "            break\n",
    "        else:\n",
    "            continue"
   ]
  },
  {
   "cell_type": "code",
   "execution_count": null,
   "metadata": {},
   "outputs": [],
   "source": [
    "#威力彩\n",
    "\n",
    "import random\n",
    "\n",
    "min = 1\n",
    "max = 38\n",
    "special = random.randint(1,8)\n",
    "\n",
    "\n",
    "while True:\n",
    "    num1 = random.randint(min,max)\n",
    "    num2 = random.randint(min,max)\n",
    "    num3 = random.randint(min,max)\n",
    "    num4 = random.randint(min,max)\n",
    "    num5 = random.randint(min,max)\n",
    "    num6 = random.randint(min,max)\n",
    "    numS = special\n",
    "\n",
    "    if num1 != num2 and != num3 and != num4 and != num5 and != num6:\n",
    "        list = (num1,num2,num3,num4,num5,num6)\n",
    "        ans = sorted(list)\n",
    "        print(ans)\n",
    "        break\n",
    "    else:\n",
    "        continue\n"
   ]
  },
  {
   "cell_type": "code",
   "execution_count": 20,
   "metadata": {},
   "outputs": [
    {
     "name": "stdout",
     "output_type": "stream",
     "text": [
      "30 40 3.2 4.111\n"
     ]
    }
   ],
   "source": [
    "### 定義自訂功能 function\n",
    "# func1\n",
    "# 呼叫func1()\n",
    "# 關鍵字 def function名稱(參數):\n",
    "# return:傳出值 必須要有 等於= 去接收\n",
    "\n",
    "def add_two(a, b):\n",
    "    return a + b\n",
    "\n",
    "def sub_two(a, b):\n",
    "    return a - b\n",
    "\n",
    "a = add_two(10,20)\n",
    "b = sub_two(50,10)\n",
    "c = add_two(1.5,1.7)\n",
    "d = sub_two(5.555,1.444)\n",
    "print(a,b,c,d)"
   ]
  },
  {
   "cell_type": "code",
   "execution_count": 35,
   "metadata": {},
   "outputs": [
    {
     "name": "stdout",
     "output_type": "stream",
     "text": [
      "60\n"
     ]
    }
   ],
   "source": [
    "value = add_two(10,50)\n",
    "print(value)"
   ]
  },
  {
   "cell_type": "code",
   "execution_count": 36,
   "metadata": {},
   "outputs": [
    {
     "name": "stdout",
     "output_type": "stream",
     "text": [
      "Ben您好\n"
     ]
    }
   ],
   "source": [
    "# 1個參數，沒有傳出值\n",
    "def say_hello(name):\n",
    "    print(f\"{name}您好\")\n",
    "\n",
    "say_hello(\"Ben\")"
   ]
  },
  {
   "cell_type": "code",
   "execution_count": 37,
   "metadata": {},
   "outputs": [
    {
     "name": "stdout",
     "output_type": "stream",
     "text": [
      "您好\n"
     ]
    }
   ],
   "source": [
    "# 沒有參數，沒有傳出值的，就不需要引數\n",
    "def say_greet():\n",
    "    print(\"您好\")\n",
    "\n",
    "say_greet()"
   ]
  },
  {
   "cell_type": "code",
   "execution_count": 41,
   "metadata": {},
   "outputs": [
    {
     "name": "stdout",
     "output_type": "stream",
     "text": [
      "==========猜數字遊戲===========\n",
      "再大一點\n",
      "您已經猜了1次\n",
      "再大一點\n",
      "您已經猜了2次\n",
      "再大一點\n",
      "您已經猜了3次\n",
      "再大一點\n",
      "您已經猜了4次\n",
      "賓果!您猜對了!答案是:98\n",
      "您猜了5次\n",
      "遊戲結束\n"
     ]
    }
   ],
   "source": [
    "def play_game():\n",
    "    import random\n",
    "    print(\"==========猜數字遊戲===========\")\n",
    "    min = 1\n",
    "    max = 100\n",
    "    count = 0\n",
    "    target = random.randint(min,max)\n",
    "   \n",
    "\n",
    "    while (True):\n",
    "        keyin = int(input(f\"猜數字範圍{min}~{max}:\"))\n",
    "        count += 1\n",
    "        if min <= keyin <= max:\n",
    "            if keyin == target:\n",
    "                print(f\"賓果!您猜對了!答案是:{target}\")\n",
    "                print(f\"您猜了{count}次\")\n",
    "                break\n",
    "            elif (keyin > target):\n",
    "                print(\"再小一點\")\n",
    "                max = keyin\n",
    "            elif (keyin < target):\n",
    "                print(\"再大一點\")\n",
    "                min = keyin\n",
    "            print(f\"您已經猜了{count}次\")\n",
    "\n",
    "        else:\n",
    "            print(\"請輸入提示範圍內的數字\")\n",
    "            continue\n",
    "    print(\"遊戲結束\")\n",
    "\n",
    "play_game()"
   ]
  },
  {
   "cell_type": "code",
   "execution_count": 43,
   "metadata": {},
   "outputs": [
    {
     "name": "stdout",
     "output_type": "stream",
     "text": [
      "==========猜數字遊戲===========\n",
      "再小一點\n",
      "您已經猜了1次\n",
      "再小一點\n",
      "您已經猜了2次\n",
      "再小一點\n",
      "您已經猜了3次\n",
      "再大一點\n",
      "您已經猜了4次\n",
      "再大一點\n",
      "您已經猜了5次\n",
      "再小一點\n",
      "您已經猜了6次\n",
      "再大一點\n",
      "您已經猜了7次\n",
      "再大一點\n",
      "您已經猜了8次\n",
      "賓果!您猜對了!答案是:30\n",
      "您猜了9次\n",
      "遊戲結束\n"
     ]
    }
   ],
   "source": [
    "play_game()"
   ]
  },
  {
   "cell_type": "code",
   "execution_count": 60,
   "metadata": {},
   "outputs": [
    {
     "name": "stdout",
     "output_type": "stream",
     "text": [
      "[13, 26, 30, 34, 42, 42]\n"
     ]
    }
   ],
   "source": [
    "lotus()"
   ]
  }
 ],
 "metadata": {
  "kernelspec": {
   "display_name": "Python 3",
   "language": "python",
   "name": "python3"
  },
  "language_info": {
   "codemirror_mode": {
    "name": "ipython",
    "version": 3
   },
   "file_extension": ".py",
   "mimetype": "text/x-python",
   "name": "python",
   "nbconvert_exporter": "python",
   "pygments_lexer": "ipython3",
   "version": "3.8.10"
  },
  "orig_nbformat": 4
 },
 "nbformat": 4,
 "nbformat_minor": 2
}
