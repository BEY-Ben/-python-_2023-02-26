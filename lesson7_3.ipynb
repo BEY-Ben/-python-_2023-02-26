{
 "cells": [
  {
   "cell_type": "code",
   "execution_count": null,
   "metadata": {},
   "outputs": [],
   "source": [
    "student_3 = [\n",
    "    [67, 92, 57, 93, 74],\n",
    "    [61, 45, 99, 59, 66],\n",
    "    [88, 55, 77, 47, 80],\n",
    "]\n",
    "\n",
    "student_3[0], student_3[1], student_3[2]"
   ]
  },
  {
   "cell_type": "code",
   "execution_count": null,
   "metadata": {},
   "outputs": [],
   "source": [
    "# python內建的function：要使用improt來載入\n",
    "# random功能\n",
    "\n",
    "import random\n",
    "\n",
    "def get_random_score() -> list:\n",
    "    return [random.randint(50,100), \n",
    "            random.randint(50,100), \n",
    "            random.randint(50,100), \n",
    "            random.randint(50,100),\n",
    "            random.randint(50,100)]\n",
    "\n",
    "get_random_score() #呼叫功能記得加()"
   ]
  },
  {
   "cell_type": "code",
   "execution_count": null,
   "metadata": {},
   "outputs": [],
   "source": [
    "student_3 = [\n",
    "    get_random_score(),\n",
    "    get_random_score(),\n",
    "    get_random_score()\n",
    "]\n",
    "#但是若是一次50個學生，就不會全部列出來，而是用其他方式\n",
    "\n",
    "#list實體裡面\n",
    "#實體的方法method\n",
    "#查找網路的說明書\n",
    "'''\n",
    "list.append(值)\n",
    ">>>\n",
    "student_50.append()\n",
    "'''\n",
    "\n",
    "\n",
    "#使用list實體的append(X)的方法(method)新增數據到list實體裡面\n",
    "#每個實體都有自己的實體方法，不可以字串實體插入數值實體\n",
    "#可以針對實體內的值進行移除、新增、插入、清空、複製等\n",
    "student_50 = []\n",
    "student_50.append(1)\n",
    "student_50.append(2)\n",
    "student_50.append(3)\n",
    "student_50"
   ]
  },
  {
   "cell_type": "code",
   "execution_count": null,
   "metadata": {},
   "outputs": [],
   "source": [
    "#用for in 取代手動建立\n",
    "student_50 = []\n",
    "\n",
    "for i in range(1,51): #執行50 次(51-1)\n",
    "    student_50.append(i)\n",
    "\n",
    "print(student_50)"
   ]
  },
  {
   "cell_type": "code",
   "execution_count": null,
   "metadata": {},
   "outputs": [],
   "source": [
    "#50個學生 每個學生5個分數參考的變數只有一個student_50\n",
    "import random\n",
    "\n",
    "def get_random_score() -> list:\n",
    "    return [random.randint(50,100), \n",
    "            random.randint(50,100), \n",
    "            random.randint(50,100), \n",
    "            random.randint(50,100),\n",
    "            random.randint(50,100)]\n",
    "\n",
    "student_50 = []\n",
    "for _ in range(1,51):\n",
    "    student_50.append(get_random_score())\n",
    "\n",
    "#print(student_50)\n",
    "print(student_50[:5])\n",
    "print(student_50[-5:])"
   ]
  }
 ],
 "metadata": {
  "language_info": {
   "name": "python"
  },
  "orig_nbformat": 4
 },
 "nbformat": 4,
 "nbformat_minor": 2
}
