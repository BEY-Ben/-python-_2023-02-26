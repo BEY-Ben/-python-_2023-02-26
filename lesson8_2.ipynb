{
 "cells": [
  {
   "cell_type": "code",
   "execution_count": 1,
   "metadata": {},
   "outputs": [
    {
     "name": "stdout",
     "output_type": "stream",
     "text": [
      "tw 台灣\n",
      "jp 日本\n",
      "hk 香港\n",
      "us 美國\n"
     ]
    }
   ],
   "source": [
    "# 建立dict的實體\n",
    "codes = {\n",
    "    \"tw\":\"台灣\",\n",
    "    \"jp\":\"日本\",\n",
    "    \"hk\":\"香港\",\n",
    "    \"us\":\"美國\"\n",
    "}\n",
    "\n",
    "codes\n",
    "\n",
    "# dict可以使用for in 迴圈\n",
    "for key in codes:\n",
    "    print(key,end=' ')\n",
    "    print(codes[key])\n"
   ]
  },
  {
   "cell_type": "code",
   "execution_count": 7,
   "metadata": {},
   "outputs": [
    {
     "name": "stdout",
     "output_type": "stream",
     "text": [
      "('tw', '台灣')\n",
      "=============\n",
      "('jp', '日本')\n",
      "=============\n",
      "('hk', '香港')\n",
      "=============\n",
      "('us', '美國')\n",
      "=============\n",
      "tw 台灣\n",
      "=============\n",
      "jp 日本\n",
      "=============\n",
      "hk 香港\n",
      "=============\n",
      "us 美國\n",
      "=============\n"
     ]
    }
   ],
   "source": [
    "### 內建的function不需要.\n",
    "\n",
    "### dict的實體方法.items\n",
    "\n",
    "for key in codes.items():\n",
    "    print(key)\n",
    "    print(\"=============\")\n",
    "\n",
    "### tuple用拆解方式取得內容值\n",
    "\n",
    "for key,value in codes.items():\n",
    "    print(key,end=\" \")\n",
    "    print(value)\n",
    "    print(\"=============\")"
   ]
  }
 ],
 "metadata": {
  "kernelspec": {
   "display_name": "Python 3",
   "language": "python",
   "name": "python3"
  },
  "language_info": {
   "codemirror_mode": {
    "name": "ipython",
    "version": 3
   },
   "file_extension": ".py",
   "mimetype": "text/x-python",
   "name": "python",
   "nbconvert_exporter": "python",
   "pygments_lexer": "ipython3",
   "version": "3.8.10"
  },
  "orig_nbformat": 4
 },
 "nbformat": 4,
 "nbformat_minor": 2
}
