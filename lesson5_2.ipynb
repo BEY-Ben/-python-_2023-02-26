{
 "cells": [
  {
   "cell_type": "code",
   "execution_count": 4,
   "metadata": {},
   "outputs": [
    {
     "name": "stdout",
     "output_type": "stream",
     "text": [
      "a.s.d.f.g.h.j.k.l.w.e.r.t.y.u.i.o.p."
     ]
    }
   ],
   "source": [
    "# loop 迴圈 流程控制的一種\n",
    "# 重複執行\n",
    "# for in 明確知道執行的次數\n",
    "# 如 一週執行七次\n",
    "# while 不知道執行幾次\n",
    "\n",
    "# for 自訂變數 in iterable物件:\n",
    "# str range() \n",
    "\n",
    "#for in 範例\n",
    "letters = 'asdfghjklwertyuiop'\n",
    "for le in letters:\n",
    "    print(le,end='.')"
   ]
  },
  {
   "cell_type": "code",
   "execution_count": 11,
   "metadata": {},
   "outputs": [
    {
     "name": "stdout",
     "output_type": "stream",
     "text": [
      "123413579"
     ]
    }
   ],
   "source": [
    "# range(stop)\n",
    "# range(start,stop,step=1)\n",
    "# range(5) = 0~4\n",
    "# range(1,5) = 1~4\n",
    "# range(1,10,2) = 1,3,5,7,9\n",
    "\n",
    "for i in range(1,5):\n",
    "    print(i,end='')\n",
    "\n",
    "for i2 in range(1,10,2):\n",
    "    print(i2,end='')\n"
   ]
  },
  {
   "cell_type": "code",
   "execution_count": 13,
   "metadata": {},
   "outputs": [
    {
     "name": "stdout",
     "output_type": "stream",
     "text": [
      "1~10的總和為的總和為:45\n"
     ]
    }
   ],
   "source": [
    "# 輸入起始和結束的加總\n",
    "start = int (input(\"起輸入起始值\") )\n",
    "end = int (input(\"請輸入結束值\"))\n",
    "\n",
    "total = 0\n",
    "for i in range(start,end+1): #end記得加1 因為會少算最後一個\n",
    "    total += i\n",
    "\n",
    "print(f\"{start}~{end}的總和為的總和為:{total}\")"
   ]
  },
  {
   "cell_type": "code",
   "execution_count": 53,
   "metadata": {},
   "outputs": [
    {
     "name": "stdout",
     "output_type": "stream",
     "text": [
      "1 * 1 = 1   1 * 2 = 2   1 * 3 = 3   1 * 4 = 4   1 * 5 = 5   1 * 6 = 6   1 * 7 = 7   1 * 8 = 8   1 * 9 = 9   2 * 1 = 2   2 * 2 = 4   2 * 3 = 6   2 * 4 = 8   2 * 5 =10   2 * 6 =12   2 * 7 =14   2 * 8 =16   2 * 9 =18   3 * 1 = 3   3 * 2 = 6   3 * 3 = 9   3 * 4 =12   3 * 5 =15   3 * 6 =18   3 * 7 =21   3 * 8 =24   3 * 9 =27   4 * 1 = 4   4 * 2 = 8   4 * 3 =12   4 * 4 =16   4 * 5 =20   4 * 6 =24   4 * 7 =28   4 * 8 =32   4 * 9 =36   5 * 1 = 5   5 * 2 =10   5 * 3 =15   5 * 4 =20   5 * 5 =25   5 * 6 =30   5 * 7 =35   5 * 8 =40   5 * 9 =45   6 * 1 = 6   6 * 2 =12   6 * 3 =18   6 * 4 =24   6 * 5 =30   6 * 6 =36   6 * 7 =42   6 * 8 =48   6 * 9 =54   7 * 1 = 7   7 * 2 =14   7 * 3 =21   7 * 4 =28   7 * 5 =35   7 * 6 =42   7 * 7 =49   7 * 8 =56   7 * 9 =63   8 * 1 = 8   8 * 2 =16   8 * 3 =24   8 * 4 =32   8 * 5 =40   8 * 6 =48   8 * 7 =56   8 * 8 =64   8 * 9 =72   9 * 1 = 9   9 * 2 =18   9 * 3 =27   9 * 4 =36   9 * 5 =45   9 * 6 =54   9 * 7 =63   9 * 8 =72   9 * 9 =81   \n"
     ]
    }
   ],
   "source": [
    "# 巢狀迴圈：\n",
    "'''迴圈裏面還有迴圈\n",
    "外部range(1,10)\n",
    "內部range(1,10)\n",
    "外部1次 內部9次 內部總共81次\n",
    "內外部的for 自訂變數 不可相同\n",
    "'''\n",
    "\n",
    "for i in range(1,10):\n",
    "    for j in range(1,10):\n",
    "        print(i,\"*\", j,\"=\", i*j,end='\\t')\n",
    "        print(\"%-2d*%2d =%2d\" % (i,j,i*j),end=\"   \")\n",
    "\n",
    "\"\"\"\n",
    "這是 Python 中的字符串格式化語法，其中 % 符號是格式化操作符。\n",
    "這個語法用於將一些變量插入到字符串中，並根據指定的格式進行格式化。\n",
    "這個具體的語句是用來輸出一個帶有格式的字符串，\n",
    "該字符串包含三個變量 i、j 和 i*j，用於表示一個乘法表中的一個單元格。\n",
    "該字符串中的格式化指示符包括：\n",
    "%d：用來表示一個整數值。\n",
    "%2d：表示一個帶有兩位數的整數值，如果實際值小於兩位數，則在前面添加空格填充。\n",
    "%-2d：表示一個帶有兩位數的整數值，如果實際值小於兩位數，則在後面添加空格填充。\n",
    "%2d：與前一個格式化指示符相同，表示一個帶有兩位數的整數值，如果實際值小於兩位數，則在前面添加空格填充。\n",
    "因此，這個語句的作用是輸出一個包含三個變量的字符串，\n",
    "其中 i 和 j 表示乘法表的行和列，i*j 表示行和列的乘積。\n",
    "在輸出時，使用了不同的格式化指示符，使字符串的各個部分按照不同的格式進行輸出，以便對齊。\n",
    "另外，end=\" \" 是指定在字符串結尾加上三個空格作為分隔符，用於分隔不同的列。\n",
    "\"\"\"\n",
    "\n",
    "print()\n"
   ]
  },
  {
   "cell_type": "code",
   "execution_count": 31,
   "metadata": {},
   "outputs": [
    {
     "name": "stdout",
     "output_type": "stream",
     "text": [
      "1000的因數是:\n",
      "1 2 4 5 8 10 20 25 40 50 100 125 200 250 500 1000 "
     ]
    }
   ],
   "source": [
    "### 求所有因數\n",
    "num = int(input('請輸入整數，求所有因數:'))\n",
    "print(f\"{num}的因數是:\")\n",
    "for i in range(1,num+1):\n",
    "    if (num % i == 0):\n",
    "        print(i,end=' ')"
   ]
  },
  {
   "cell_type": "code",
   "execution_count": null,
   "metadata": {},
   "outputs": [],
   "source": [
    "### Homework\n",
    "# 求公因數\n",
    "# print(\"請輸入2數，求2樹公因數:\")\n",
    "# n=int(input('請輸入第1個數:'))\n",
    "# m=int(input('請輸入第2個數:'))"
   ]
  }
 ],
 "metadata": {
  "kernelspec": {
   "display_name": "Python 3",
   "language": "python",
   "name": "python3"
  },
  "language_info": {
   "codemirror_mode": {
    "name": "ipython",
    "version": 3
   },
   "file_extension": ".py",
   "mimetype": "text/x-python",
   "name": "python",
   "nbconvert_exporter": "python",
   "pygments_lexer": "ipython3",
   "version": "3.8.10"
  },
  "orig_nbformat": 4
 },
 "nbformat": 4,
 "nbformat_minor": 2
}
