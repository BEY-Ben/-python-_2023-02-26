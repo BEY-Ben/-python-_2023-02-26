{
 "cells": [
  {
   "cell_type": "code",
   "execution_count": 9,
   "metadata": {},
   "outputs": [
    {
     "name": "stdout",
     "output_type": "stream",
     "text": [
      "0900-000-000 格式正確\n",
      "0900\n",
      "000\n",
      "000\n"
     ]
    }
   ],
   "source": [
    "### !!!!! 要背的：正規則表達式\n",
    "## 可用正規則表達式的測試網站pythnx\n",
    "import re\n",
    "phone_num = input(\"請輸入手機號碼:(xxxx-xxx-xxx)\")\n",
    "\n",
    "# 先建立re的實體：re.compile(pattern, flags=0)\n",
    "# 使用正規則表達式，表達您要的格式\n",
    "# 我不使用python的脫逸字元'\\'\n",
    "\n",
    "pattern = r\"(\\d\\d\\d\\d)-(\\d\\d\\d)-(\\d\\d\\d)\" #使用r\n",
    "phone_regex = re.compile(pattern)\n",
    "match_obj = re.match(phone_regex, phone_num)\n",
    "\n",
    "if match_obj is None:\n",
    "    print(\"格式不符合\")\n",
    "else:\n",
    "    print(f\"{match_obj.group()} 格式正確\")\n",
    "    print(match_obj.group(1))\n",
    "    print(match_obj.group(2))\n",
    "    print(match_obj.group(3))"
   ]
  }
 ],
 "metadata": {
  "kernelspec": {
   "display_name": "base",
   "language": "python",
   "name": "python3"
  },
  "language_info": {
   "codemirror_mode": {
    "name": "ipython",
    "version": 3
   },
   "file_extension": ".py",
   "mimetype": "text/x-python",
   "name": "python",
   "nbconvert_exporter": "python",
   "pygments_lexer": "ipython3",
   "version": "3.9.13"
  },
  "orig_nbformat": 4
 },
 "nbformat": 4,
 "nbformat_minor": 2
}
